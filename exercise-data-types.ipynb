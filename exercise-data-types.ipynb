{
 "cells": [
  {
   "cell_type": "markdown",
   "id": "7b95c0d6",
   "metadata": {
    "papermill": {
     "duration": 0.007566,
     "end_time": "2023-01-06T14:18:33.981964",
     "exception": false,
     "start_time": "2023-01-06T14:18:33.974398",
     "status": "completed"
    },
    "tags": []
   },
   "source": [
    "**This notebook is an exercise in the [Intro to Programming](https://www.kaggle.com/learn/intro-to-programming) course.  You can reference the tutorial at [this link](https://www.kaggle.com/alexisbcook/data-types).**\n",
    "\n",
    "---\n"
   ]
  },
  {
   "cell_type": "markdown",
   "id": "32e344e8",
   "metadata": {
    "papermill": {
     "duration": 0.005986,
     "end_time": "2023-01-06T14:18:33.994485",
     "exception": false,
     "start_time": "2023-01-06T14:18:33.988499",
     "status": "completed"
    },
    "tags": []
   },
   "source": [
    "In the tutorial, you learned about four different data types: floats, integers, strings, and booleans.  In this exercise, you'll experiment with them.\n",
    "\n",
    "# Set up the notebook\n",
    "\n",
    "Run the next code cell without changes to set up the notebook."
   ]
  },
  {
   "cell_type": "code",
   "execution_count": 1,
   "id": "7c943c3a",
   "metadata": {
    "execution": {
     "iopub.execute_input": "2023-01-06T14:18:34.009280Z",
     "iopub.status.busy": "2023-01-06T14:18:34.008680Z",
     "iopub.status.idle": "2023-01-06T14:18:34.056276Z",
     "shell.execute_reply": "2023-01-06T14:18:34.055177Z"
    },
    "papermill": {
     "duration": 0.058479,
     "end_time": "2023-01-06T14:18:34.059182",
     "exception": false,
     "start_time": "2023-01-06T14:18:34.000703",
     "status": "completed"
    },
    "tags": []
   },
   "outputs": [
    {
     "name": "stdout",
     "output_type": "stream",
     "text": [
      "Setup complete.\n"
     ]
    }
   ],
   "source": [
    "# Set up the exercise\n",
    "from learntools.core import binder\n",
    "binder.bind(globals())\n",
    "from learntools.intro_to_programming.ex3 import *\n",
    "print('Setup complete.')"
   ]
  },
  {
   "cell_type": "markdown",
   "id": "6f90b66f",
   "metadata": {
    "papermill": {
     "duration": 0.006072,
     "end_time": "2023-01-06T14:18:34.071870",
     "exception": false,
     "start_time": "2023-01-06T14:18:34.065798",
     "status": "completed"
    },
    "tags": []
   },
   "source": [
    "# Question 1\n",
    "\n",
    "You have seen how to convert a float to an integer with the `int` function.  Try this out yourself by running the code cell below."
   ]
  },
  {
   "cell_type": "code",
   "execution_count": 2,
   "id": "f4b62112",
   "metadata": {
    "execution": {
     "iopub.execute_input": "2023-01-06T14:18:34.086510Z",
     "iopub.status.busy": "2023-01-06T14:18:34.086101Z",
     "iopub.status.idle": "2023-01-06T14:18:34.091587Z",
     "shell.execute_reply": "2023-01-06T14:18:34.090829Z"
    },
    "papermill": {
     "duration": 0.015966,
     "end_time": "2023-01-06T14:18:34.094235",
     "exception": false,
     "start_time": "2023-01-06T14:18:34.078269",
     "status": "completed"
    },
    "tags": []
   },
   "outputs": [
    {
     "name": "stdout",
     "output_type": "stream",
     "text": [
      "1.0\n",
      "<class 'float'>\n",
      "1\n",
      "<class 'int'>\n"
     ]
    }
   ],
   "source": [
    "# Define a float\n",
    "y = 1.\n",
    "print(y)\n",
    "print(type(y))\n",
    "\n",
    "# Convert float to integer with the int function\n",
    "z = int(y)\n",
    "print(z)\n",
    "print(type(z))"
   ]
  },
  {
   "cell_type": "markdown",
   "id": "f6ca4ef5",
   "metadata": {
    "papermill": {
     "duration": 0.006104,
     "end_time": "2023-01-06T14:18:34.106849",
     "exception": false,
     "start_time": "2023-01-06T14:18:34.100745",
     "status": "completed"
    },
    "tags": []
   },
   "source": [
    "In this case, the float you are using has no numbers after the decimal.  \n",
    "- But what happens when you try to convert a float with a fractional part to an integer?  \n",
    "- How does the outcome of the `int` function change for positive and negative numbers?\n",
    "\n",
    "Use the next code cell to investigate and answer these questions.  Feel free to add or remove any lines of code -- it is your workspace!"
   ]
  },
  {
   "cell_type": "code",
   "execution_count": 3,
   "id": "fa4588b7",
   "metadata": {
    "execution": {
     "iopub.execute_input": "2023-01-06T14:18:34.121490Z",
     "iopub.status.busy": "2023-01-06T14:18:34.121061Z",
     "iopub.status.idle": "2023-01-06T14:18:34.126788Z",
     "shell.execute_reply": "2023-01-06T14:18:34.125700Z"
    },
    "papermill": {
     "duration": 0.015952,
     "end_time": "2023-01-06T14:18:34.129233",
     "exception": false,
     "start_time": "2023-01-06T14:18:34.113281",
     "status": "completed"
    },
    "tags": []
   },
   "outputs": [
    {
     "name": "stdout",
     "output_type": "stream",
     "text": [
      "1\n",
      "1\n",
      "-3\n",
      "-2\n"
     ]
    }
   ],
   "source": [
    "# Uncomment and run this code to get started!\n",
    "print(int(1.2321))\n",
    "print(int(1.747))\n",
    "print(int(-3.94535))\n",
    "print(int(-2.19774))"
   ]
  },
  {
   "cell_type": "markdown",
   "id": "fa05cdb1",
   "metadata": {
    "papermill": {
     "duration": 0.007854,
     "end_time": "2023-01-06T14:18:34.143712",
     "exception": false,
     "start_time": "2023-01-06T14:18:34.135858",
     "status": "completed"
    },
    "tags": []
   },
   "source": [
    "Once you have an answer, run the code cell below to see the solution.  Viewing the solution will give you credit for answering the problem."
   ]
  },
  {
   "cell_type": "code",
   "execution_count": 4,
   "id": "352baf8e",
   "metadata": {
    "execution": {
     "iopub.execute_input": "2023-01-06T14:18:34.158605Z",
     "iopub.status.busy": "2023-01-06T14:18:34.158186Z",
     "iopub.status.idle": "2023-01-06T14:18:34.169910Z",
     "shell.execute_reply": "2023-01-06T14:18:34.168682Z"
    },
    "papermill": {
     "duration": 0.02171,
     "end_time": "2023-01-06T14:18:34.172200",
     "exception": false,
     "start_time": "2023-01-06T14:18:34.150490",
     "status": "completed"
    },
    "tags": []
   },
   "outputs": [
    {
     "data": {
      "application/javascript": [
       "parent.postMessage({\"jupyterEvent\": \"custom.exercise_interaction\", \"data\": {\"outcomeType\": 1, \"valueTowardsCompletion\": 0.2, \"interactionType\": 1, \"questionType\": 4, \"questionId\": \"1_FloatToInt\", \"learnToolsVersion\": \"0.3.4\", \"failureMessage\": \"\", \"exceptionClass\": \"\", \"trace\": \"\"}}, \"*\")"
      ],
      "text/plain": [
       "<IPython.core.display.Javascript object>"
      ]
     },
     "metadata": {},
     "output_type": "display_data"
    },
    {
     "data": {
      "text/markdown": [
       "<span style=\"color:#33cc33\">Correct:</span> \n",
       "\n",
       "Negative floats are always rounded UP to the closest integer (for instance, both -1.1 and -1.9 are rounded up to -1). Positive floats are always rounded DOWN to the closest integer (for instance, 2.1 and 2.9 are rounded down to 2)."
      ],
      "text/plain": [
       "Correct: \n",
       "\n",
       "Negative floats are always rounded UP to the closest integer (for instance, both -1.1 and -1.9 are rounded up to -1). Positive floats are always rounded DOWN to the closest integer (for instance, 2.1 and 2.9 are rounded down to 2)."
      ]
     },
     "metadata": {},
     "output_type": "display_data"
    }
   ],
   "source": [
    "# Check your answer (Run this code cell to receive credit!)\n",
    "q1.check()"
   ]
  },
  {
   "cell_type": "markdown",
   "id": "7ed26b3f",
   "metadata": {
    "papermill": {
     "duration": 0.006552,
     "end_time": "2023-01-06T14:18:34.185696",
     "exception": false,
     "start_time": "2023-01-06T14:18:34.179144",
     "status": "completed"
    },
    "tags": []
   },
   "source": [
    "# Question 2\n",
    "\n",
    "In the tutorial, you learned about booleans (which can take a value of `True` or `False`), in addition to integers, floats, and strings.  For this question, your goal is to determine what happens when you multiply a boolean by any of these data types.  Specifically, \n",
    "- What happens when you multiply an integer or float by `True`?  What happens when you multiply them by `False`?  How does the answer change if the numbers are positive or negative?\n",
    "- What happens when you multiply a string by `True`?  By `False`?\n",
    "\n",
    "Use the next code cell for your investigation. "
   ]
  },
  {
   "cell_type": "code",
   "execution_count": 5,
   "id": "1acf8512",
   "metadata": {
    "execution": {
     "iopub.execute_input": "2023-01-06T14:18:34.201462Z",
     "iopub.status.busy": "2023-01-06T14:18:34.200682Z",
     "iopub.status.idle": "2023-01-06T14:18:34.206842Z",
     "shell.execute_reply": "2023-01-06T14:18:34.205749Z"
    },
    "papermill": {
     "duration": 0.017235,
     "end_time": "2023-01-06T14:18:34.209796",
     "exception": false,
     "start_time": "2023-01-06T14:18:34.192561",
     "status": "completed"
    },
    "tags": []
   },
   "outputs": [
    {
     "name": "stdout",
     "output_type": "stream",
     "text": [
      "3\n",
      "-3.1\n",
      "<class 'str'>\n",
      "0\n"
     ]
    }
   ],
   "source": [
    "# Uncomment and run this code to get started!\n",
    "print(3 * True)\n",
    "print(-3.1 * True)\n",
    "print(type(\"abc\" * False))\n",
    "print(len(\"abc\" * False))"
   ]
  },
  {
   "cell_type": "markdown",
   "id": "163b6162",
   "metadata": {
    "papermill": {
     "duration": 0.007217,
     "end_time": "2023-01-06T14:18:34.224009",
     "exception": false,
     "start_time": "2023-01-06T14:18:34.216792",
     "status": "completed"
    },
    "tags": []
   },
   "source": [
    "Once you have an answer, run the code cell below to see the solution.  Viewing the solution will give you credit for answering the problem."
   ]
  },
  {
   "cell_type": "code",
   "execution_count": 6,
   "id": "f16542b3",
   "metadata": {
    "execution": {
     "iopub.execute_input": "2023-01-06T14:18:34.239324Z",
     "iopub.status.busy": "2023-01-06T14:18:34.238950Z",
     "iopub.status.idle": "2023-01-06T14:18:34.247914Z",
     "shell.execute_reply": "2023-01-06T14:18:34.246714Z"
    },
    "papermill": {
     "duration": 0.019261,
     "end_time": "2023-01-06T14:18:34.250132",
     "exception": false,
     "start_time": "2023-01-06T14:18:34.230871",
     "status": "completed"
    },
    "tags": []
   },
   "outputs": [
    {
     "data": {
      "application/javascript": [
       "parent.postMessage({\"jupyterEvent\": \"custom.exercise_interaction\", \"data\": {\"outcomeType\": 1, \"valueTowardsCompletion\": 0.2, \"interactionType\": 1, \"questionType\": 4, \"questionId\": \"2_MultiplyBooleans\", \"learnToolsVersion\": \"0.3.4\", \"failureMessage\": \"\", \"exceptionClass\": \"\", \"trace\": \"\"}}, \"*\")"
      ],
      "text/plain": [
       "<IPython.core.display.Javascript object>"
      ]
     },
     "metadata": {},
     "output_type": "display_data"
    },
    {
     "data": {
      "text/markdown": [
       "<span style=\"color:#33cc33\">Correct:</span> \n",
       "\n",
       "When you multiple an integer or float by a boolean with value `True`, it just returns that same integer or float (and is equivalent to multiplying by 1).  If you multiply an integer or float by a boolean with value `False`, it always returns 0.  This is true for both positive and negative numbers.  If you multiply a string by a boolean with value `True`, it just returns that same string.  And if you multiply a string by a boolean with value `False`, it returns an empty string (or a string with length zero)."
      ],
      "text/plain": [
       "Correct: \n",
       "\n",
       "When you multiple an integer or float by a boolean with value `True`, it just returns that same integer or float (and is equivalent to multiplying by 1).  If you multiply an integer or float by a boolean with value `False`, it always returns 0.  This is true for both positive and negative numbers.  If you multiply a string by a boolean with value `True`, it just returns that same string.  And if you multiply a string by a boolean with value `False`, it returns an empty string (or a string with length zero)."
      ]
     },
     "metadata": {},
     "output_type": "display_data"
    }
   ],
   "source": [
    "# Check your answer (Run this code cell to receive credit!)\n",
    "q2.check()"
   ]
  },
  {
   "cell_type": "markdown",
   "id": "c4f78177",
   "metadata": {
    "papermill": {
     "duration": 0.007163,
     "end_time": "2023-01-06T14:18:34.264403",
     "exception": false,
     "start_time": "2023-01-06T14:18:34.257240",
     "status": "completed"
    },
    "tags": []
   },
   "source": [
    "# Question 3\n",
    "\n",
    "In this question, you will build off your work from the previous exercise to write a function that estimates the value of a house.\n",
    "\n",
    "Use the next code cell to create a function `get_expected_cost` that takes as input three variables:\n",
    "- `beds` - number of bedrooms (data type float)\n",
    "- `baths` - number of bathrooms (data type float)\n",
    "- `has_basement` - whether or not the house has a basement (data type boolean)\n",
    "\n",
    "It should return the expected cost of a house with those characteristics. Assume that:\n",
    "- the expected cost for a house with 0 bedrooms and 0 bathrooms, and no basement is 80000, \n",
    "- each bedroom adds 30000 to the expected cost,\n",
    "- each bathroom adds 10000 to the expected cost, and\n",
    "- a basement adds 40000 to the expected cost.\n",
    "\n",
    "For instance,\n",
    "- a house with 1 bedroom, 1 bathroom, and no basement has an expected cost of 80000 + 30000 + 10000 = 120000.  This value will be calculated with `get_expected_cost(1, 1, False)`.\n",
    "- a house with 2 bedrooms, 1 bathroom, and a basement has an expected cost of 80000 + 2*30000 + 10000 + 40000 = 190000.  This value will be calculated with `get_expected_cost(2, 1, True)`.\n",
    "\n",
    "Remember you can always get a hint by uncommenting `q3.hint()` in the code cell following the next!"
   ]
  },
  {
   "cell_type": "code",
   "execution_count": 7,
   "id": "94f4b3c8",
   "metadata": {
    "execution": {
     "iopub.execute_input": "2023-01-06T14:18:34.280425Z",
     "iopub.status.busy": "2023-01-06T14:18:34.279573Z",
     "iopub.status.idle": "2023-01-06T14:18:34.289599Z",
     "shell.execute_reply": "2023-01-06T14:18:34.288699Z"
    },
    "papermill": {
     "duration": 0.020431,
     "end_time": "2023-01-06T14:18:34.291876",
     "exception": false,
     "start_time": "2023-01-06T14:18:34.271445",
     "status": "completed"
    },
    "tags": []
   },
   "outputs": [
    {
     "data": {
      "application/javascript": [
       "parent.postMessage({\"jupyterEvent\": \"custom.exercise_interaction\", \"data\": {\"outcomeType\": 1, \"valueTowardsCompletion\": 0.2, \"interactionType\": 1, \"questionType\": 2, \"questionId\": \"3_EstimateHouseValueBool\", \"learnToolsVersion\": \"0.3.4\", \"failureMessage\": \"\", \"exceptionClass\": \"\", \"trace\": \"\"}}, \"*\")"
      ],
      "text/plain": [
       "<IPython.core.display.Javascript object>"
      ]
     },
     "metadata": {},
     "output_type": "display_data"
    },
    {
     "data": {
      "text/markdown": [
       "<span style=\"color:#33cc33\">Correct</span>"
      ],
      "text/plain": [
       "Correct"
      ]
     },
     "metadata": {},
     "output_type": "display_data"
    }
   ],
   "source": [
    "# TODO: Complete the function\n",
    "def get_expected_cost(beds, baths, has_basement):\n",
    "    value = 80000 + 30000 * beds + 10000 * baths + 40000 * has_basement\n",
    "    return value\n",
    "\n",
    "# Check your answer \n",
    "q3.check()"
   ]
  },
  {
   "cell_type": "code",
   "execution_count": 8,
   "id": "24aca2f8",
   "metadata": {
    "execution": {
     "iopub.execute_input": "2023-01-06T14:18:34.308663Z",
     "iopub.status.busy": "2023-01-06T14:18:34.308243Z",
     "iopub.status.idle": "2023-01-06T14:18:34.317446Z",
     "shell.execute_reply": "2023-01-06T14:18:34.316579Z"
    },
    "papermill": {
     "duration": 0.020401,
     "end_time": "2023-01-06T14:18:34.319666",
     "exception": false,
     "start_time": "2023-01-06T14:18:34.299265",
     "status": "completed"
    },
    "tags": []
   },
   "outputs": [
    {
     "data": {
      "application/javascript": [
       "parent.postMessage({\"jupyterEvent\": \"custom.exercise_interaction\", \"data\": {\"interactionType\": 2, \"questionType\": 2, \"questionId\": \"3_EstimateHouseValueBool\", \"learnToolsVersion\": \"0.3.4\", \"valueTowardsCompletion\": 0.0, \"failureMessage\": \"\", \"exceptionClass\": \"\", \"trace\": \"\", \"outcomeType\": 4}}, \"*\")"
      ],
      "text/plain": [
       "<IPython.core.display.Javascript object>"
      ]
     },
     "metadata": {},
     "output_type": "display_data"
    },
    {
     "data": {
      "text/markdown": [
       "<span style=\"color:#3366cc\">Hint:</span> The variable `has_basement` is either `True` or `False`.  What happens when you multiply it by 40000 (the value of a basement)?  Refer to the previous question if you are unsure."
      ],
      "text/plain": [
       "Hint: The variable `has_basement` is either `True` or `False`.  What happens when you multiply it by 40000 (the value of a basement)?  Refer to the previous question if you are unsure."
      ]
     },
     "metadata": {},
     "output_type": "display_data"
    }
   ],
   "source": [
    "# Uncomment to see a hint\n",
    "q3.hint()\n",
    "\n",
    "# Uncomment to view the solution\n",
    "#q3.solution()"
   ]
  },
  {
   "cell_type": "markdown",
   "id": "97fd554d",
   "metadata": {
    "papermill": {
     "duration": 0.007368,
     "end_time": "2023-01-06T14:18:34.334719",
     "exception": false,
     "start_time": "2023-01-06T14:18:34.327351",
     "status": "completed"
    },
    "tags": []
   },
   "source": [
    "# Question 4\n",
    "\n",
    "We'll continue our study of boolean arithmetic.  For this question, your task is to provide a description of what happpens when you add booleans. \n",
    "\n",
    "Use the next code cell for your investigation.  Feel free to add or remove any lines of code - use it as your workspace!"
   ]
  },
  {
   "cell_type": "code",
   "execution_count": 9,
   "id": "07b7e4dd",
   "metadata": {
    "execution": {
     "iopub.execute_input": "2023-01-06T14:18:34.352184Z",
     "iopub.status.busy": "2023-01-06T14:18:34.351344Z",
     "iopub.status.idle": "2023-01-06T14:18:34.358501Z",
     "shell.execute_reply": "2023-01-06T14:18:34.357140Z"
    },
    "papermill": {
     "duration": 0.018271,
     "end_time": "2023-01-06T14:18:34.360572",
     "exception": false,
     "start_time": "2023-01-06T14:18:34.342301",
     "status": "completed"
    },
    "tags": []
   },
   "outputs": [
    {
     "name": "stdout",
     "output_type": "stream",
     "text": [
      "0\n",
      "1\n",
      "1\n",
      "2\n",
      "3\n"
     ]
    }
   ],
   "source": [
    "print(False + False)\n",
    "print(True + False)\n",
    "print(False + True)\n",
    "print(True + True)\n",
    "print(False + True + True + True)"
   ]
  },
  {
   "cell_type": "markdown",
   "id": "2931f083",
   "metadata": {
    "papermill": {
     "duration": 0.007521,
     "end_time": "2023-01-06T14:18:34.375677",
     "exception": false,
     "start_time": "2023-01-06T14:18:34.368156",
     "status": "completed"
    },
    "tags": []
   },
   "source": [
    "Once you have an answer, run the code cell below to see the solution.  Viewing the solution will give you credit for answering the problem."
   ]
  },
  {
   "cell_type": "code",
   "execution_count": 10,
   "id": "496ac424",
   "metadata": {
    "execution": {
     "iopub.execute_input": "2023-01-06T14:18:34.392860Z",
     "iopub.status.busy": "2023-01-06T14:18:34.392474Z",
     "iopub.status.idle": "2023-01-06T14:18:34.400184Z",
     "shell.execute_reply": "2023-01-06T14:18:34.399474Z"
    },
    "papermill": {
     "duration": 0.018615,
     "end_time": "2023-01-06T14:18:34.402103",
     "exception": false,
     "start_time": "2023-01-06T14:18:34.383488",
     "status": "completed"
    },
    "tags": []
   },
   "outputs": [
    {
     "data": {
      "application/javascript": [
       "parent.postMessage({\"jupyterEvent\": \"custom.exercise_interaction\", \"data\": {\"outcomeType\": 1, \"valueTowardsCompletion\": 0.2, \"interactionType\": 1, \"questionType\": 4, \"questionId\": \"4_AddingBooleans\", \"learnToolsVersion\": \"0.3.4\", \"failureMessage\": \"\", \"exceptionClass\": \"\", \"trace\": \"\"}}, \"*\")"
      ],
      "text/plain": [
       "<IPython.core.display.Javascript object>"
      ]
     },
     "metadata": {},
     "output_type": "display_data"
    },
    {
     "data": {
      "text/markdown": [
       "<span style=\"color:#33cc33\">Correct:</span> \n",
       "\n",
       "When you add booleans, adding `False` is equivalent to adding 0, and adding `True` is equivalent to adding 1."
      ],
      "text/plain": [
       "Correct: \n",
       "\n",
       "When you add booleans, adding `False` is equivalent to adding 0, and adding `True` is equivalent to adding 1."
      ]
     },
     "metadata": {},
     "output_type": "display_data"
    }
   ],
   "source": [
    "# Check your answer (Run this code cell to receive credit!)\n",
    "q4.check()"
   ]
  },
  {
   "cell_type": "markdown",
   "id": "09a4158a",
   "metadata": {
    "papermill": {
     "duration": 0.007679,
     "end_time": "2023-01-06T14:18:34.417665",
     "exception": false,
     "start_time": "2023-01-06T14:18:34.409986",
     "status": "completed"
    },
    "tags": []
   },
   "source": [
    "# 🌶️ Question 5\n",
    "\n",
    "You own an online shop where you sell rings with custom engravings.  You offer both gold plated and solid gold rings.\n",
    "- Gold plated rings have a base cost of \\\\$50, and you charge \\\\$7 per engraved unit.  \n",
    "- Solid gold rings have a base cost of \\\\$100, and you charge \\\\$10 per engraved unit.\n",
    "- Spaces and punctuation are counted as engraved units.\n",
    "\n",
    "Write a function `cost_of_project()` that takes two arguments:\n",
    "- `engraving` - a Python string with the text of the engraving\n",
    "- `solid_gold` - a Boolean that indicates whether the ring is solid gold\n",
    "\n",
    "It should return the cost of the project.  This question should be fairly challenging, and you may need a hint."
   ]
  },
  {
   "cell_type": "code",
   "execution_count": 11,
   "id": "1f054847",
   "metadata": {
    "execution": {
     "iopub.execute_input": "2023-01-06T14:18:34.435274Z",
     "iopub.status.busy": "2023-01-06T14:18:34.434570Z",
     "iopub.status.idle": "2023-01-06T14:18:34.443634Z",
     "shell.execute_reply": "2023-01-06T14:18:34.442590Z"
    },
    "papermill": {
     "duration": 0.020529,
     "end_time": "2023-01-06T14:18:34.445950",
     "exception": false,
     "start_time": "2023-01-06T14:18:34.425421",
     "status": "completed"
    },
    "tags": []
   },
   "outputs": [
    {
     "data": {
      "application/javascript": [
       "parent.postMessage({\"jupyterEvent\": \"custom.exercise_interaction\", \"data\": {\"outcomeType\": 1, \"valueTowardsCompletion\": 0.2, \"interactionType\": 1, \"questionType\": 2, \"questionId\": \"5_CustomEngravings\", \"learnToolsVersion\": \"0.3.4\", \"failureMessage\": \"\", \"exceptionClass\": \"\", \"trace\": \"\"}}, \"*\")"
      ],
      "text/plain": [
       "<IPython.core.display.Javascript object>"
      ]
     },
     "metadata": {},
     "output_type": "display_data"
    },
    {
     "data": {
      "text/markdown": [
       "<span style=\"color:#33cc33\">Correct</span>"
      ],
      "text/plain": [
       "Correct"
      ]
     },
     "metadata": {},
     "output_type": "display_data"
    }
   ],
   "source": [
    "def cost_of_project(engraving, solid_gold):\n",
    "    cost = solid_gold * (100 + 10 * len(engraving)) + (not solid_gold) * (50 + 7 * len(engraving))\n",
    "    return cost\n",
    "\n",
    "# Check your answer\n",
    "q5.check()"
   ]
  },
  {
   "cell_type": "code",
   "execution_count": 12,
   "id": "d561cf96",
   "metadata": {
    "execution": {
     "iopub.execute_input": "2023-01-06T14:18:34.463671Z",
     "iopub.status.busy": "2023-01-06T14:18:34.463251Z",
     "iopub.status.idle": "2023-01-06T14:18:34.467920Z",
     "shell.execute_reply": "2023-01-06T14:18:34.466852Z"
    },
    "papermill": {
     "duration": 0.016016,
     "end_time": "2023-01-06T14:18:34.470068",
     "exception": false,
     "start_time": "2023-01-06T14:18:34.454052",
     "status": "completed"
    },
    "tags": []
   },
   "outputs": [],
   "source": [
    "# Uncomment to see a hint\n",
    "#q5.hint()\n",
    "\n",
    "# Uncomment to view the solution\n",
    "#q5.solution()"
   ]
  },
  {
   "cell_type": "markdown",
   "id": "64a3420a",
   "metadata": {
    "papermill": {
     "duration": 0.007809,
     "end_time": "2023-01-06T14:18:34.486175",
     "exception": false,
     "start_time": "2023-01-06T14:18:34.478366",
     "status": "completed"
    },
    "tags": []
   },
   "source": [
    "Run the next code cell to calculate the cost of engraving `Charlie+Denver` on a solid gold ring."
   ]
  },
  {
   "cell_type": "code",
   "execution_count": 13,
   "id": "035dc0ff",
   "metadata": {
    "execution": {
     "iopub.execute_input": "2023-01-06T14:18:34.504305Z",
     "iopub.status.busy": "2023-01-06T14:18:34.503578Z",
     "iopub.status.idle": "2023-01-06T14:18:34.508700Z",
     "shell.execute_reply": "2023-01-06T14:18:34.507661Z"
    },
    "papermill": {
     "duration": 0.016364,
     "end_time": "2023-01-06T14:18:34.510628",
     "exception": false,
     "start_time": "2023-01-06T14:18:34.494264",
     "status": "completed"
    },
    "tags": []
   },
   "outputs": [
    {
     "name": "stdout",
     "output_type": "stream",
     "text": [
      "240\n"
     ]
    }
   ],
   "source": [
    "project_one = cost_of_project(\"Charlie+Denver\", True)\n",
    "print(project_one)"
   ]
  },
  {
   "cell_type": "markdown",
   "id": "78304959",
   "metadata": {
    "papermill": {
     "duration": 0.007759,
     "end_time": "2023-01-06T14:18:34.526572",
     "exception": false,
     "start_time": "2023-01-06T14:18:34.518813",
     "status": "completed"
    },
    "tags": []
   },
   "source": [
    "Use the next code cell to calculate the cost of engraving `08/10/2000` on a gold plated ring."
   ]
  },
  {
   "cell_type": "code",
   "execution_count": 14,
   "id": "ca6999b0",
   "metadata": {
    "execution": {
     "iopub.execute_input": "2023-01-06T14:18:34.544734Z",
     "iopub.status.busy": "2023-01-06T14:18:34.543982Z",
     "iopub.status.idle": "2023-01-06T14:18:34.549244Z",
     "shell.execute_reply": "2023-01-06T14:18:34.548098Z"
    },
    "papermill": {
     "duration": 0.017095,
     "end_time": "2023-01-06T14:18:34.551693",
     "exception": false,
     "start_time": "2023-01-06T14:18:34.534598",
     "status": "completed"
    },
    "tags": []
   },
   "outputs": [
    {
     "name": "stdout",
     "output_type": "stream",
     "text": [
      "120\n"
     ]
    }
   ],
   "source": [
    "project_two = cost_of_project(\"08/10/2000\", False)\n",
    "print(project_two)"
   ]
  },
  {
   "cell_type": "markdown",
   "id": "771de25f",
   "metadata": {
    "papermill": {
     "duration": 0.008022,
     "end_time": "2023-01-06T14:18:34.567882",
     "exception": false,
     "start_time": "2023-01-06T14:18:34.559860",
     "status": "completed"
    },
    "tags": []
   },
   "source": [
    "# Keep going\n",
    "\n",
    "Continue to the next lesson to **[learn about conditions and conditional statements](https://www.kaggle.com/alexisbcook/conditions-and-conditional-statements)**."
   ]
  },
  {
   "cell_type": "markdown",
   "id": "f8649419",
   "metadata": {
    "papermill": {
     "duration": 0.00768,
     "end_time": "2023-01-06T14:18:34.583769",
     "exception": false,
     "start_time": "2023-01-06T14:18:34.576089",
     "status": "completed"
    },
    "tags": []
   },
   "source": [
    "---\n",
    "\n",
    "\n",
    "\n",
    "\n",
    "*Have questions or comments? Visit the [course discussion forum](https://www.kaggle.com/learn/intro-to-programming/discussion) to chat with other learners.*"
   ]
  }
 ],
 "metadata": {
  "kernelspec": {
   "display_name": "Python 3",
   "language": "python",
   "name": "python3"
  },
  "language_info": {
   "codemirror_mode": {
    "name": "ipython",
    "version": 3
   },
   "file_extension": ".py",
   "mimetype": "text/x-python",
   "name": "python",
   "nbconvert_exporter": "python",
   "pygments_lexer": "ipython3",
   "version": "3.7.12"
  },
  "papermill": {
   "default_parameters": {},
   "duration": 9.648018,
   "end_time": "2023-01-06T14:18:35.212267",
   "environment_variables": {},
   "exception": null,
   "input_path": "__notebook__.ipynb",
   "output_path": "__notebook__.ipynb",
   "parameters": {},
   "start_time": "2023-01-06T14:18:25.564249",
   "version": "2.3.4"
  }
 },
 "nbformat": 4,
 "nbformat_minor": 5
}
