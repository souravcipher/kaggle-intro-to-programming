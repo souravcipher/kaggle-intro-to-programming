{
 "cells": [
  {
   "cell_type": "markdown",
   "id": "292f6fa0",
   "metadata": {
    "papermill": {
     "duration": 0.006059,
     "end_time": "2022-10-18T11:10:58.610074",
     "exception": false,
     "start_time": "2022-10-18T11:10:58.604015",
     "status": "completed"
    },
    "tags": []
   },
   "source": [
    "**This notebook is an exercise in the [Intro to Programming](https://www.kaggle.com/learn/intro-to-programming) course.  You can reference the tutorial at [this link](https://www.kaggle.com/alexisbcook/functions).**\n",
    "\n",
    "---\n"
   ]
  },
  {
   "cell_type": "code",
   "execution_count": 1,
   "id": "a092ea4b",
   "metadata": {
    "execution": {
     "iopub.execute_input": "2022-10-18T11:10:58.621657Z",
     "iopub.status.busy": "2022-10-18T11:10:58.621226Z",
     "iopub.status.idle": "2022-10-18T11:10:58.673586Z",
     "shell.execute_reply": "2022-10-18T11:10:58.672679Z"
    },
    "papermill": {
     "duration": 0.061234,
     "end_time": "2022-10-18T11:10:58.676201",
     "exception": false,
     "start_time": "2022-10-18T11:10:58.614967",
     "status": "completed"
    },
    "tags": []
   },
   "outputs": [
    {
     "name": "stdout",
     "output_type": "stream",
     "text": [
      "Setup complete.\n"
     ]
    }
   ],
   "source": [
    "# Set up the exercise\n",
    "import math\n",
    "from learntools.core import binder\n",
    "binder.bind(globals())\n",
    "from learntools.intro_to_programming.ex2 import *\n",
    "print('Setup complete.')"
   ]
  },
  {
   "cell_type": "code",
   "execution_count": 2,
   "id": "1adb0f95",
   "metadata": {
    "execution": {
     "iopub.execute_input": "2022-10-18T11:10:58.688341Z",
     "iopub.status.busy": "2022-10-18T11:10:58.687638Z",
     "iopub.status.idle": "2022-10-18T11:10:58.698261Z",
     "shell.execute_reply": "2022-10-18T11:10:58.697238Z"
    },
    "papermill": {
     "duration": 0.018905,
     "end_time": "2022-10-18T11:10:58.700441",
     "exception": false,
     "start_time": "2022-10-18T11:10:58.681536",
     "status": "completed"
    },
    "tags": []
   },
   "outputs": [
    {
     "data": {
      "application/javascript": [
       "parent.postMessage({\"jupyterEvent\": \"custom.exercise_interaction\", \"data\": {\"outcomeType\": 2, \"failureMessage\": \"Expected return value of `80000` given `beds=0`, `baths=0`, but got `<learntools.core.constants.PlaceholderValue object at 0x7fef882d8110>` instead.\", \"interactionType\": 1, \"questionType\": 2, \"questionId\": \"1_GetExpectedCost\", \"learnToolsVersion\": \"0.3.4\", \"valueTowardsCompletion\": 0.0, \"exceptionClass\": \"\", \"trace\": \"\"}}, \"*\")"
      ],
      "text/plain": [
       "<IPython.core.display.Javascript object>"
      ]
     },
     "metadata": {},
     "output_type": "display_data"
    },
    {
     "data": {
      "text/markdown": [
       "<span style=\"color:#cc3333\">Incorrect:</span> Expected return value of `80000` given `beds=0`, `baths=0`, but got `<learntools.core.constants.PlaceholderValue object at 0x7fef882d8110>` instead."
      ],
      "text/plain": [
       "Incorrect: Expected return value of `80000` given `beds=0`, `baths=0`, but got `<learntools.core.constants.PlaceholderValue object at 0x7fef882d8110>` instead."
      ]
     },
     "metadata": {},
     "output_type": "display_data"
    }
   ],
   "source": [
    "# TODO: Complete the function\n",
    "def get_expected_cost(beds, baths):\n",
    "    value = ____\n",
    "    return value\n",
    "\n",
    "# Check your answer \n",
    "q1.check()"
   ]
  },
  {
   "cell_type": "code",
   "execution_count": 3,
   "id": "fd071b75",
   "metadata": {
    "execution": {
     "iopub.execute_input": "2022-10-18T11:10:58.712396Z",
     "iopub.status.busy": "2022-10-18T11:10:58.711993Z",
     "iopub.status.idle": "2022-10-18T11:10:58.716464Z",
     "shell.execute_reply": "2022-10-18T11:10:58.715420Z"
    },
    "papermill": {
     "duration": 0.012931,
     "end_time": "2022-10-18T11:10:58.718550",
     "exception": false,
     "start_time": "2022-10-18T11:10:58.705619",
     "status": "completed"
    },
    "tags": []
   },
   "outputs": [],
   "source": [
    "# Uncomment to see a hint\n",
    "#q1.hint()\n",
    "\n",
    "# Uncomment to view the solution\n",
    "#q1.solution()"
   ]
  },
  {
   "cell_type": "markdown",
   "id": "15f1fcc0",
   "metadata": {
    "papermill": {
     "duration": 0.004915,
     "end_time": "2022-10-18T11:10:58.728664",
     "exception": false,
     "start_time": "2022-10-18T11:10:58.723749",
     "status": "completed"
    },
    "tags": []
   },
   "source": [
    "# Question 2\n",
    "\n",
    "You are thinking about buying a home and want to get an idea of how much you will spend, based on the number of bedrooms and bathrooms.  You are trying to decide between four different options:\n",
    "- Option 1: house with two bedrooms and three bathrooms\n",
    "- Option 2: house with three bedrooms and two bathrooms\n",
    "- Option 3: house with three bedrooms and three bathrooms\n",
    "- Option 4: house with three bedrooms and four bathrooms\n",
    "\n",
    "Use the `get_expected_cost()` function you defined in question 1 to set `option_1`, `option_2`, `option_3`, and `option_4` to the expected cost of each option."
   ]
  },
  {
   "cell_type": "code",
   "execution_count": 4,
   "id": "f63d9037",
   "metadata": {
    "execution": {
     "iopub.execute_input": "2022-10-18T11:10:58.740899Z",
     "iopub.status.busy": "2022-10-18T11:10:58.740251Z",
     "iopub.status.idle": "2022-10-18T11:10:58.751554Z",
     "shell.execute_reply": "2022-10-18T11:10:58.750291Z"
    },
    "papermill": {
     "duration": 0.019854,
     "end_time": "2022-10-18T11:10:58.753681",
     "exception": false,
     "start_time": "2022-10-18T11:10:58.733827",
     "status": "completed"
    },
    "tags": []
   },
   "outputs": [
    {
     "name": "stdout",
     "output_type": "stream",
     "text": [
      "<learntools.core.constants.PlaceholderValue object at 0x7fef882d8110>\n",
      "<learntools.core.constants.PlaceholderValue object at 0x7fef882d8110>\n",
      "<learntools.core.constants.PlaceholderValue object at 0x7fef882d8110>\n",
      "<learntools.core.constants.PlaceholderValue object at 0x7fef882d8110>\n"
     ]
    },
    {
     "data": {
      "application/javascript": [
       "parent.postMessage({\"jupyterEvent\": \"custom.exercise_interaction\", \"data\": {\"outcomeType\": 4, \"interactionType\": 1, \"questionType\": 1, \"questionId\": \"2_RunGetExpectedCost\", \"learnToolsVersion\": \"0.3.4\", \"valueTowardsCompletion\": 0.0, \"failureMessage\": \"\", \"exceptionClass\": \"\", \"trace\": \"\"}}, \"*\")"
      ],
      "text/plain": [
       "<IPython.core.display.Javascript object>"
      ]
     },
     "metadata": {},
     "output_type": "display_data"
    },
    {
     "data": {
      "text/markdown": [
       "<span style=\"color:#ccaa33\">Check:</span> When you've updated the starter code, `check()` will tell you whether your code is correct. You need to update the code that creates variables `option_one`, `option_two`, `option_three`, `option_four`"
      ],
      "text/plain": [
       "Check: When you've updated the starter code, `check()` will tell you whether your code is correct. You need to update the code that creates variables `option_one`, `option_two`, `option_three`, `option_four`"
      ]
     },
     "metadata": {},
     "output_type": "display_data"
    }
   ],
   "source": [
    "# TODO: Use the get_expected_cost function to fill in each value\n",
    "option_one = ____\n",
    "option_two = ____\n",
    "option_three = ____\n",
    "option_four = ____\n",
    "\n",
    "print(option_one)\n",
    "print(option_two)\n",
    "print(option_three)\n",
    "print(option_four)\n",
    "\n",
    "# Check your answer\n",
    "q2.check()"
   ]
  },
  {
   "cell_type": "code",
   "execution_count": 5,
   "id": "823ab72f",
   "metadata": {
    "execution": {
     "iopub.execute_input": "2022-10-18T11:10:58.766204Z",
     "iopub.status.busy": "2022-10-18T11:10:58.765807Z",
     "iopub.status.idle": "2022-10-18T11:10:58.769918Z",
     "shell.execute_reply": "2022-10-18T11:10:58.768891Z"
    },
    "papermill": {
     "duration": 0.012725,
     "end_time": "2022-10-18T11:10:58.772029",
     "exception": false,
     "start_time": "2022-10-18T11:10:58.759304",
     "status": "completed"
    },
    "tags": []
   },
   "outputs": [],
   "source": [
    "# Uncomment to see a hint\n",
    "#q2.hint()\n",
    "\n",
    "# Uncomment to view the solution\n",
    "#q2.solution()"
   ]
  },
  {
   "cell_type": "markdown",
   "id": "556da888",
   "metadata": {
    "papermill": {
     "duration": 0.005332,
     "end_time": "2022-10-18T11:10:58.782904",
     "exception": false,
     "start_time": "2022-10-18T11:10:58.777572",
     "status": "completed"
    },
    "tags": []
   },
   "source": [
    "# Question 3\n",
    "\n",
    "You're a home decorator, and you'd like to use Python to streamline some of your work.  Specifically, you're creating a tool that you intend to use to calculate the cost of painting a room.\n",
    "\n",
    "As a first step, define a function `get_cost()` that takes as input:\n",
    "- `sqft_walls` = total square feet of walls to be painted\n",
    "- `sqft_ceiling` = square feet of ceiling to be painted\n",
    "- `sqft_per_gallon` = number of square feet that you can cover with one gallon of paint\n",
    "- `cost_per_gallon` = cost (in dollars) of one gallon of paint\n",
    "\n",
    "It should return the cost (in dollars) of putting one coat of paint on all walls and the ceiling.  Assume you can buy the exact amount of paint that you need, so you can buy partial gallons (e.g., if you need 7.523 gallons, you can buy that exact amount, instead of needing to buy 8 gallons and waste some paint).  Do not round your answer."
   ]
  },
  {
   "cell_type": "code",
   "execution_count": 6,
   "id": "b93a65c0",
   "metadata": {
    "execution": {
     "iopub.execute_input": "2022-10-18T11:10:58.795632Z",
     "iopub.status.busy": "2022-10-18T11:10:58.795233Z",
     "iopub.status.idle": "2022-10-18T11:10:58.804490Z",
     "shell.execute_reply": "2022-10-18T11:10:58.803393Z"
    },
    "papermill": {
     "duration": 0.017941,
     "end_time": "2022-10-18T11:10:58.806524",
     "exception": false,
     "start_time": "2022-10-18T11:10:58.788583",
     "status": "completed"
    },
    "tags": []
   },
   "outputs": [
    {
     "data": {
      "application/javascript": [
       "parent.postMessage({\"jupyterEvent\": \"custom.exercise_interaction\", \"data\": {\"outcomeType\": 2, \"failureMessage\": \"Expected return value of `21.599999999999998` given `sqft_walls=432`, `sqft_ceiling=144`, `sqft_per_gallon=400`, `cost_per_gallon=15`, but got `<learntools.core.constants.PlaceholderValue object at 0x7fef882d8110>` instead.\", \"interactionType\": 1, \"questionType\": 2, \"questionId\": \"3_GetCostPaint\", \"learnToolsVersion\": \"0.3.4\", \"valueTowardsCompletion\": 0.0, \"exceptionClass\": \"\", \"trace\": \"\"}}, \"*\")"
      ],
      "text/plain": [
       "<IPython.core.display.Javascript object>"
      ]
     },
     "metadata": {},
     "output_type": "display_data"
    },
    {
     "data": {
      "text/markdown": [
       "<span style=\"color:#cc3333\">Incorrect:</span> Expected return value of `21.599999999999998` given `sqft_walls=432`, `sqft_ceiling=144`, `sqft_per_gallon=400`, `cost_per_gallon=15`, but got `<learntools.core.constants.PlaceholderValue object at 0x7fef882d8110>` instead."
      ],
      "text/plain": [
       "Incorrect: Expected return value of `21.599999999999998` given `sqft_walls=432`, `sqft_ceiling=144`, `sqft_per_gallon=400`, `cost_per_gallon=15`, but got `<learntools.core.constants.PlaceholderValue object at 0x7fef882d8110>` instead."
      ]
     },
     "metadata": {},
     "output_type": "display_data"
    }
   ],
   "source": [
    "# TODO: Finish defining the function\n",
    "def get_cost(sqft_walls, sqft_ceiling, sqft_per_gallon, cost_per_gallon):\n",
    "    cost = ____\n",
    "    return cost\n",
    "\n",
    "# Check your answer\n",
    "q3.check()"
   ]
  },
  {
   "cell_type": "code",
   "execution_count": 7,
   "id": "4184e53b",
   "metadata": {
    "execution": {
     "iopub.execute_input": "2022-10-18T11:10:58.820337Z",
     "iopub.status.busy": "2022-10-18T11:10:58.819686Z",
     "iopub.status.idle": "2022-10-18T11:10:58.824288Z",
     "shell.execute_reply": "2022-10-18T11:10:58.823249Z"
    },
    "papermill": {
     "duration": 0.013904,
     "end_time": "2022-10-18T11:10:58.826271",
     "exception": false,
     "start_time": "2022-10-18T11:10:58.812367",
     "status": "completed"
    },
    "tags": []
   },
   "outputs": [],
   "source": [
    "# Uncomment to see a hint\n",
    "#q3.hint()\n",
    "\n",
    "# Uncomment to view the solution\n",
    "#q3.solution()"
   ]
  },
  {
   "cell_type": "markdown",
   "id": "96edc73d",
   "metadata": {
    "papermill": {
     "duration": 0.005526,
     "end_time": "2022-10-18T11:10:58.837732",
     "exception": false,
     "start_time": "2022-10-18T11:10:58.832206",
     "status": "completed"
    },
    "tags": []
   },
   "source": [
    "# Question 4\n",
    "\n",
    "Use the `get_cost()` function you defined in Question 3 to calculate the cost of applying one coat of paint to a room with:\n",
    "- 432 square feet of walls, and\n",
    "- 144 square feet of ceiling.\n",
    "\n",
    "Assume that one gallon of paint covers 400 square feet and costs $15.  As in Question 3, assume you can buy partial gallons of paint.  Do not round your answer."
   ]
  },
  {
   "cell_type": "code",
   "execution_count": 8,
   "id": "374c21ce",
   "metadata": {
    "execution": {
     "iopub.execute_input": "2022-10-18T11:10:58.852651Z",
     "iopub.status.busy": "2022-10-18T11:10:58.851960Z",
     "iopub.status.idle": "2022-10-18T11:10:58.859008Z",
     "shell.execute_reply": "2022-10-18T11:10:58.858252Z"
    },
    "papermill": {
     "duration": 0.016009,
     "end_time": "2022-10-18T11:10:58.860905",
     "exception": false,
     "start_time": "2022-10-18T11:10:58.844896",
     "status": "completed"
    },
    "tags": []
   },
   "outputs": [
    {
     "data": {
      "application/javascript": [
       "parent.postMessage({\"jupyterEvent\": \"custom.exercise_interaction\", \"data\": {\"outcomeType\": 4, \"interactionType\": 1, \"questionType\": 1, \"questionId\": \"4_GetCostPaintExample\", \"learnToolsVersion\": \"0.3.4\", \"valueTowardsCompletion\": 0.0, \"failureMessage\": \"\", \"exceptionClass\": \"\", \"trace\": \"\"}}, \"*\")"
      ],
      "text/plain": [
       "<IPython.core.display.Javascript object>"
      ]
     },
     "metadata": {},
     "output_type": "display_data"
    },
    {
     "data": {
      "text/markdown": [
       "<span style=\"color:#ccaa33\">Check:</span> When you've updated the starter code, `check()` will tell you whether your code is correct. You need to update the code that creates variable `project_cost`"
      ],
      "text/plain": [
       "Check: When you've updated the starter code, `check()` will tell you whether your code is correct. You need to update the code that creates variable `project_cost`"
      ]
     },
     "metadata": {},
     "output_type": "display_data"
    }
   ],
   "source": [
    "# TODO: Set the project_cost variable to the cost of the project\n",
    "project_cost = ____\n",
    "\n",
    "# Check your answer\n",
    "q4.check()"
   ]
  },
  {
   "cell_type": "code",
   "execution_count": 9,
   "id": "caa9a547",
   "metadata": {
    "execution": {
     "iopub.execute_input": "2022-10-18T11:10:58.875212Z",
     "iopub.status.busy": "2022-10-18T11:10:58.874522Z",
     "iopub.status.idle": "2022-10-18T11:10:58.878220Z",
     "shell.execute_reply": "2022-10-18T11:10:58.877486Z"
    },
    "papermill": {
     "duration": 0.013036,
     "end_time": "2022-10-18T11:10:58.880057",
     "exception": false,
     "start_time": "2022-10-18T11:10:58.867021",
     "status": "completed"
    },
    "tags": []
   },
   "outputs": [],
   "source": [
    "# Uncomment to see a hint\n",
    "#q4.hint()\n",
    "\n",
    "# Uncomment to view the solution\n",
    "#q4.solution()"
   ]
  },
  {
   "cell_type": "markdown",
   "id": "1cc7a28f",
   "metadata": {
    "papermill": {
     "duration": 0.00599,
     "end_time": "2022-10-18T11:10:58.892254",
     "exception": false,
     "start_time": "2022-10-18T11:10:58.886264",
     "status": "completed"
    },
    "tags": []
   },
   "source": [
    "# 🌶️ Question 5\n",
    "\n",
    "Now say you can no longer buy fractions of a gallon.  (For instance, if you need 4.3 gallons to do a project, then you have to buy 5 gallons of paint.)\n",
    "\n",
    "With this new scenario, you will create a new function `get_actual_cost` that uses the same inputs and calculates the cost of your project.\n",
    "\n",
    "One function that you'll need to use to do this is `math.ceil()`.  We demonstrate usage of this function in the code cell below.  It takes as a number as input and rounds the number up to the nearest integer.  \n",
    "\n",
    "Run the next code cell to test this function for yourself.  Feel free to change the value of `test_value` and make sure `math.ceil()` returns the number you expect."
   ]
  },
  {
   "cell_type": "code",
   "execution_count": 10,
   "id": "3824b627",
   "metadata": {
    "execution": {
     "iopub.execute_input": "2022-10-18T11:10:58.906421Z",
     "iopub.status.busy": "2022-10-18T11:10:58.905743Z",
     "iopub.status.idle": "2022-10-18T11:10:58.911290Z",
     "shell.execute_reply": "2022-10-18T11:10:58.910204Z"
    },
    "papermill": {
     "duration": 0.015417,
     "end_time": "2022-10-18T11:10:58.913743",
     "exception": false,
     "start_time": "2022-10-18T11:10:58.898326",
     "status": "completed"
    },
    "tags": []
   },
   "outputs": [
    {
     "name": "stdout",
     "output_type": "stream",
     "text": [
      "3\n"
     ]
    }
   ],
   "source": [
    "test_value = 2.17\n",
    "\n",
    "rounded_value = math.ceil(test_value)\n",
    "print(rounded_value)"
   ]
  },
  {
   "cell_type": "markdown",
   "id": "5b7d3309",
   "metadata": {
    "papermill": {
     "duration": 0.006117,
     "end_time": "2022-10-18T11:10:58.926212",
     "exception": false,
     "start_time": "2022-10-18T11:10:58.920095",
     "status": "completed"
    },
    "tags": []
   },
   "source": [
    "Use the next code cell to define the function `get_actual_cost()`.  You'll need to use the `math.ceil()` function to do this.\n",
    "\n",
    "When answering this question, note that it's completely valid to define a function that makes use of another function.  For instance, we can define a function `round_up_and_divide_by_three` that makes use of the `math.ceil` function:\n",
    "```\n",
    "def round_up_and_divide_by_three(num):\n",
    "    new_value = math.ceil(num)\n",
    "    final_value = new_value / 3\n",
    "    return final_value\n",
    "```"
   ]
  },
  {
   "cell_type": "code",
   "execution_count": 11,
   "id": "938bd19c",
   "metadata": {
    "execution": {
     "iopub.execute_input": "2022-10-18T11:10:58.940679Z",
     "iopub.status.busy": "2022-10-18T11:10:58.940308Z",
     "iopub.status.idle": "2022-10-18T11:10:58.948262Z",
     "shell.execute_reply": "2022-10-18T11:10:58.947418Z"
    },
    "papermill": {
     "duration": 0.017645,
     "end_time": "2022-10-18T11:10:58.950242",
     "exception": false,
     "start_time": "2022-10-18T11:10:58.932597",
     "status": "completed"
    },
    "tags": []
   },
   "outputs": [
    {
     "data": {
      "application/javascript": [
       "parent.postMessage({\"jupyterEvent\": \"custom.exercise_interaction\", \"data\": {\"outcomeType\": 2, \"failureMessage\": \"Expected return value of `30` given `sqft_walls=432`, `sqft_ceiling=144`, `sqft_per_gallon=400`, `cost_per_gallon=15`, but got `<learntools.core.constants.PlaceholderValue object at 0x7fef882d8110>` instead.\", \"interactionType\": 1, \"questionType\": 2, \"questionId\": \"5_NoMoreFractions\", \"learnToolsVersion\": \"0.3.4\", \"valueTowardsCompletion\": 0.0, \"exceptionClass\": \"\", \"trace\": \"\"}}, \"*\")"
      ],
      "text/plain": [
       "<IPython.core.display.Javascript object>"
      ]
     },
     "metadata": {},
     "output_type": "display_data"
    },
    {
     "data": {
      "text/markdown": [
       "<span style=\"color:#cc3333\">Incorrect:</span> Expected return value of `30` given `sqft_walls=432`, `sqft_ceiling=144`, `sqft_per_gallon=400`, `cost_per_gallon=15`, but got `<learntools.core.constants.PlaceholderValue object at 0x7fef882d8110>` instead."
      ],
      "text/plain": [
       "Incorrect: Expected return value of `30` given `sqft_walls=432`, `sqft_ceiling=144`, `sqft_per_gallon=400`, `cost_per_gallon=15`, but got `<learntools.core.constants.PlaceholderValue object at 0x7fef882d8110>` instead."
      ]
     },
     "metadata": {},
     "output_type": "display_data"
    }
   ],
   "source": [
    "def get_actual_cost(sqft_walls, sqft_ceiling, sqft_per_gallon, cost_per_gallon):\n",
    "    cost = ____\n",
    "    return cost\n",
    "\n",
    "# Check your answer\n",
    "q5.check()"
   ]
  },
  {
   "cell_type": "code",
   "execution_count": 12,
   "id": "1b5062b6",
   "metadata": {
    "execution": {
     "iopub.execute_input": "2022-10-18T11:10:58.966050Z",
     "iopub.status.busy": "2022-10-18T11:10:58.965294Z",
     "iopub.status.idle": "2022-10-18T11:10:58.969860Z",
     "shell.execute_reply": "2022-10-18T11:10:58.968753Z"
    },
    "papermill": {
     "duration": 0.015172,
     "end_time": "2022-10-18T11:10:58.972125",
     "exception": false,
     "start_time": "2022-10-18T11:10:58.956953",
     "status": "completed"
    },
    "tags": []
   },
   "outputs": [],
   "source": [
    "# Uncomment to see a hint\n",
    "#q5.hint()\n",
    "\n",
    "# Uncomment to view the solution\n",
    "#q5.solution()"
   ]
  },
  {
   "cell_type": "markdown",
   "id": "0e80053d",
   "metadata": {
    "papermill": {
     "duration": 0.006554,
     "end_time": "2022-10-18T11:10:58.985507",
     "exception": false,
     "start_time": "2022-10-18T11:10:58.978953",
     "status": "completed"
    },
    "tags": []
   },
   "source": [
    "Once your function is verified as correct, run the next code cell to calculate the updated cost of your project."
   ]
  },
  {
   "cell_type": "code",
   "execution_count": 13,
   "id": "a66d4f1e",
   "metadata": {
    "execution": {
     "iopub.execute_input": "2022-10-18T11:10:59.000829Z",
     "iopub.status.busy": "2022-10-18T11:10:59.000104Z",
     "iopub.status.idle": "2022-10-18T11:10:59.007338Z",
     "shell.execute_reply": "2022-10-18T11:10:59.006254Z"
    },
    "papermill": {
     "duration": 0.01729,
     "end_time": "2022-10-18T11:10:59.009440",
     "exception": false,
     "start_time": "2022-10-18T11:10:58.992150",
     "status": "completed"
    },
    "tags": []
   },
   "outputs": [
    {
     "data": {
      "text/markdown": [],
      "text/plain": [
       "<learntools.core.constants.PlaceholderValue at 0x7fef882d8110>"
      ]
     },
     "execution_count": 13,
     "metadata": {},
     "output_type": "execute_result"
    }
   ],
   "source": [
    "get_actual_cost(432, 144, 400, 15) "
   ]
  },
  {
   "cell_type": "markdown",
   "id": "fb02b9c2",
   "metadata": {
    "papermill": {
     "duration": 0.006673,
     "end_time": "2022-10-18T11:10:59.023760",
     "exception": false,
     "start_time": "2022-10-18T11:10:59.017087",
     "status": "completed"
    },
    "tags": []
   },
   "source": [
    "Say you're working with a slightly larger room.  Run the next code cell to calculate the cost of the project."
   ]
  },
  {
   "cell_type": "code",
   "execution_count": 14,
   "id": "a7e75664",
   "metadata": {
    "execution": {
     "iopub.execute_input": "2022-10-18T11:10:59.039729Z",
     "iopub.status.busy": "2022-10-18T11:10:59.039067Z",
     "iopub.status.idle": "2022-10-18T11:10:59.044853Z",
     "shell.execute_reply": "2022-10-18T11:10:59.044109Z"
    },
    "papermill": {
     "duration": 0.015977,
     "end_time": "2022-10-18T11:10:59.046720",
     "exception": false,
     "start_time": "2022-10-18T11:10:59.030743",
     "status": "completed"
    },
    "tags": []
   },
   "outputs": [
    {
     "data": {
      "text/markdown": [],
      "text/plain": [
       "<learntools.core.constants.PlaceholderValue at 0x7fef882d8110>"
      ]
     },
     "execution_count": 14,
     "metadata": {},
     "output_type": "execute_result"
    }
   ],
   "source": [
    "get_actual_cost(594, 288, 400, 15) "
   ]
  },
  {
   "cell_type": "markdown",
   "id": "3d27d74f",
   "metadata": {
    "papermill": {
     "duration": 0.006854,
     "end_time": "2022-10-18T11:10:59.060842",
     "exception": false,
     "start_time": "2022-10-18T11:10:59.053988",
     "status": "completed"
    },
    "tags": []
   },
   "source": [
    "# Keep going\n",
    "\n",
    "Continue to learn about **[data types](https://www.kaggle.com/alexisbcook/data-types)**."
   ]
  },
  {
   "cell_type": "markdown",
   "id": "bdf69731",
   "metadata": {
    "papermill": {
     "duration": 0.006817,
     "end_time": "2022-10-18T11:10:59.074755",
     "exception": false,
     "start_time": "2022-10-18T11:10:59.067938",
     "status": "completed"
    },
    "tags": []
   },
   "source": [
    "---\n",
    "\n",
    "\n",
    "\n",
    "\n",
    "*Have questions or comments? Visit the [course discussion forum](https://www.kaggle.com/learn/intro-to-programming/discussion) to chat with other learners.*"
   ]
  }
 ],
 "metadata": {
  "kernelspec": {
   "display_name": "Python 3",
   "language": "python",
   "name": "python3"
  },
  "language_info": {
   "codemirror_mode": {
    "name": "ipython",
    "version": 3
   },
   "file_extension": ".py",
   "mimetype": "text/x-python",
   "name": "python",
   "nbconvert_exporter": "python",
   "pygments_lexer": "ipython3",
   "version": "3.7.12"
  },
  "papermill": {
   "default_parameters": {},
   "duration": 9.893518,
   "end_time": "2022-10-18T11:10:59.703214",
   "environment_variables": {},
   "exception": null,
   "input_path": "__notebook__.ipynb",
   "output_path": "__notebook__.ipynb",
   "parameters": {},
   "start_time": "2022-10-18T11:10:49.809696",
   "version": "2.3.4"
  }
 },
 "nbformat": 4,
 "nbformat_minor": 5
}
