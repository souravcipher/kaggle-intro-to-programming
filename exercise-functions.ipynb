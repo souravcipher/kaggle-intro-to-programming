{
 "cells": [
  {
   "cell_type": "markdown",
   "id": "8309b73e",
   "metadata": {
    "papermill": {
     "duration": 0.007857,
     "end_time": "2023-01-03T03:29:45.493388",
     "exception": false,
     "start_time": "2023-01-03T03:29:45.485531",
     "status": "completed"
    },
    "tags": []
   },
   "source": [
    "**This notebook is an exercise in the [Intro to Programming](https://www.kaggle.com/learn/intro-to-programming) course.  You can reference the tutorial at [this link](https://www.kaggle.com/alexisbcook/functions).**\n",
    "\n",
    "---\n"
   ]
  },
  {
   "cell_type": "markdown",
   "id": "4a441efc",
   "metadata": {
    "papermill": {
     "duration": 0.006015,
     "end_time": "2023-01-03T03:29:45.505773",
     "exception": false,
     "start_time": "2023-01-03T03:29:45.499758",
     "status": "completed"
    },
    "tags": []
   },
   "source": [
    "In the tutorial, you learned about functions. In this exercise, you'll write some of your own!\n",
    "\n",
    "# Set up the notebook\n",
    "\n",
    "Run the next code cell without changes to set up the notebook."
   ]
  },
  {
   "cell_type": "code",
   "execution_count": 1,
   "id": "638f995a",
   "metadata": {
    "execution": {
     "iopub.execute_input": "2023-01-03T03:29:45.520012Z",
     "iopub.status.busy": "2023-01-03T03:29:45.519484Z",
     "iopub.status.idle": "2023-01-03T03:29:45.583698Z",
     "shell.execute_reply": "2023-01-03T03:29:45.582336Z"
    },
    "papermill": {
     "duration": 0.074865,
     "end_time": "2023-01-03T03:29:45.586865",
     "exception": false,
     "start_time": "2023-01-03T03:29:45.512000",
     "status": "completed"
    },
    "tags": []
   },
   "outputs": [
    {
     "name": "stdout",
     "output_type": "stream",
     "text": [
      "Setup complete.\n"
     ]
    }
   ],
   "source": [
    "# Set up the exercise\n",
    "import math\n",
    "from learntools.core import binder\n",
    "binder.bind(globals())\n",
    "from learntools.intro_to_programming.ex2 import *\n",
    "print('Setup complete.')"
   ]
  },
  {
   "cell_type": "markdown",
   "id": "e5e193d3",
   "metadata": {
    "papermill": {
     "duration": 0.006072,
     "end_time": "2023-01-03T03:29:45.599395",
     "exception": false,
     "start_time": "2023-01-03T03:29:45.593323",
     "status": "completed"
    },
    "tags": []
   },
   "source": [
    "# Question 1\n",
    "\n",
    "In the [House Prices - Advanced Regression Techniques competition](https://www.kaggle.com/c/house-prices-advanced-regression-techniques/overview), you need to use information like the number of bedrooms and bathrooms to predict the price of a house.  Inspired by this competition, you'll write your own function to do this.\n",
    "\n",
    "In the next code cell, create a function `get_expected_cost()` that has two arguments:\n",
    "- `beds` - number of bedrooms \n",
    "- `baths` - number of bathrooms\n",
    "\n",
    "It should return the expected cost of a house with that number of bedrooms and bathrooms.  Assume that:\n",
    "- the expected cost for a house with 0 bedrooms and 0 bathrooms is `80000`.  \n",
    "- each bedroom adds `30000` to the expected cost\n",
    "- each bathroom adds `10000` to the expected cost.\n",
    "\n",
    "For instance, \n",
    "- a house with 1 bedroom and 1 bathroom has an expected cost of `120000`, and \n",
    "- a house with 2 bedrooms and 1 bathroom has an expected cost of `150000`."
   ]
  },
  {
   "cell_type": "code",
   "execution_count": 2,
   "id": "3f7028bf",
   "metadata": {
    "execution": {
     "iopub.execute_input": "2023-01-03T03:29:45.615733Z",
     "iopub.status.busy": "2023-01-03T03:29:45.615313Z",
     "iopub.status.idle": "2023-01-03T03:29:45.627908Z",
     "shell.execute_reply": "2023-01-03T03:29:45.626900Z"
    },
    "papermill": {
     "duration": 0.02439,
     "end_time": "2023-01-03T03:29:45.630186",
     "exception": false,
     "start_time": "2023-01-03T03:29:45.605796",
     "status": "completed"
    },
    "tags": []
   },
   "outputs": [
    {
     "data": {
      "application/javascript": [
       "parent.postMessage({\"jupyterEvent\": \"custom.exercise_interaction\", \"data\": {\"outcomeType\": 1, \"valueTowardsCompletion\": 0.2, \"interactionType\": 1, \"questionType\": 2, \"questionId\": \"1_GetExpectedCost\", \"learnToolsVersion\": \"0.3.4\", \"failureMessage\": \"\", \"exceptionClass\": \"\", \"trace\": \"\"}}, \"*\")"
      ],
      "text/plain": [
       "<IPython.core.display.Javascript object>"
      ]
     },
     "metadata": {},
     "output_type": "display_data"
    },
    {
     "data": {
      "text/markdown": [
       "<span style=\"color:#33cc33\">Correct</span>"
      ],
      "text/plain": [
       "Correct"
      ]
     },
     "metadata": {},
     "output_type": "display_data"
    }
   ],
   "source": [
    "# TODO: Complete the function\n",
    "def get_expected_cost(beds, baths):\n",
    "    cost_of_beds = 30000 * beds\n",
    "    cost_of_baths = 10000 * baths\n",
    "    value = 80000 + cost_of_beds + cost_of_baths\n",
    "    return value\n",
    "\n",
    "# Check your answer \n",
    "q1.check()"
   ]
  },
  {
   "cell_type": "code",
   "execution_count": 3,
   "id": "75187af5",
   "metadata": {
    "execution": {
     "iopub.execute_input": "2023-01-03T03:29:45.645527Z",
     "iopub.status.busy": "2023-01-03T03:29:45.644811Z",
     "iopub.status.idle": "2023-01-03T03:29:45.650297Z",
     "shell.execute_reply": "2023-01-03T03:29:45.648880Z"
    },
    "papermill": {
     "duration": 0.016406,
     "end_time": "2023-01-03T03:29:45.652936",
     "exception": false,
     "start_time": "2023-01-03T03:29:45.636530",
     "status": "completed"
    },
    "tags": []
   },
   "outputs": [],
   "source": [
    "# Uncomment to see a hint\n",
    "#q1.hint()\n",
    "\n",
    "# Uncomment to view the solution\n",
    "#q1.solution()"
   ]
  },
  {
   "cell_type": "markdown",
   "id": "bee8637d",
   "metadata": {
    "papermill": {
     "duration": 0.0061,
     "end_time": "2023-01-03T03:29:45.665498",
     "exception": false,
     "start_time": "2023-01-03T03:29:45.659398",
     "status": "completed"
    },
    "tags": []
   },
   "source": [
    "# Question 2\n",
    "\n",
    "You are thinking about buying a home and want to get an idea of how much you will spend, based on the number of bedrooms and bathrooms.  You are trying to decide between four different options:\n",
    "- Option 1: house with two bedrooms and three bathrooms\n",
    "- Option 2: house with three bedrooms and two bathrooms\n",
    "- Option 3: house with three bedrooms and three bathrooms\n",
    "- Option 4: house with three bedrooms and four bathrooms\n",
    "\n",
    "Use the `get_expected_cost()` function you defined in question 1 to set `option_1`, `option_2`, `option_3`, and `option_4` to the expected cost of each option."
   ]
  },
  {
   "cell_type": "code",
   "execution_count": 4,
   "id": "ffd2bccf",
   "metadata": {
    "execution": {
     "iopub.execute_input": "2023-01-03T03:29:45.682257Z",
     "iopub.status.busy": "2023-01-03T03:29:45.681106Z",
     "iopub.status.idle": "2023-01-03T03:29:45.694655Z",
     "shell.execute_reply": "2023-01-03T03:29:45.693178Z"
    },
    "papermill": {
     "duration": 0.025743,
     "end_time": "2023-01-03T03:29:45.697645",
     "exception": false,
     "start_time": "2023-01-03T03:29:45.671902",
     "status": "completed"
    },
    "tags": []
   },
   "outputs": [
    {
     "name": "stdout",
     "output_type": "stream",
     "text": [
      "170000\n",
      "190000\n",
      "200000\n",
      "210000\n"
     ]
    },
    {
     "data": {
      "application/javascript": [
       "parent.postMessage({\"jupyterEvent\": \"custom.exercise_interaction\", \"data\": {\"outcomeType\": 1, \"valueTowardsCompletion\": 0.2, \"interactionType\": 1, \"questionType\": 1, \"questionId\": \"2_RunGetExpectedCost\", \"learnToolsVersion\": \"0.3.4\", \"failureMessage\": \"\", \"exceptionClass\": \"\", \"trace\": \"\"}}, \"*\")"
      ],
      "text/plain": [
       "<IPython.core.display.Javascript object>"
      ]
     },
     "metadata": {},
     "output_type": "display_data"
    },
    {
     "data": {
      "text/markdown": [
       "<span style=\"color:#33cc33\">Correct</span>"
      ],
      "text/plain": [
       "Correct"
      ]
     },
     "metadata": {},
     "output_type": "display_data"
    }
   ],
   "source": [
    "# TODO: Use the get_expected_cost function to fill in each value\n",
    "option_one = get_expected_cost(2,3)\n",
    "option_two = get_expected_cost(3,2)\n",
    "option_three = get_expected_cost(3,3)\n",
    "option_four = get_expected_cost(3,4)\n",
    "\n",
    "print(option_one)\n",
    "print(option_two)\n",
    "print(option_three)\n",
    "print(option_four)\n",
    "\n",
    "# Check your answer\n",
    "q2.check()"
   ]
  },
  {
   "cell_type": "code",
   "execution_count": 5,
   "id": "85a6886a",
   "metadata": {
    "execution": {
     "iopub.execute_input": "2023-01-03T03:29:45.714690Z",
     "iopub.status.busy": "2023-01-03T03:29:45.713492Z",
     "iopub.status.idle": "2023-01-03T03:29:45.718649Z",
     "shell.execute_reply": "2023-01-03T03:29:45.717796Z"
    },
    "papermill": {
     "duration": 0.015943,
     "end_time": "2023-01-03T03:29:45.721023",
     "exception": false,
     "start_time": "2023-01-03T03:29:45.705080",
     "status": "completed"
    },
    "tags": []
   },
   "outputs": [],
   "source": [
    "# Uncomment to see a hint\n",
    "#q2.hint()\n",
    "\n",
    "# Uncomment to view the solution\n",
    "#q2.solution()"
   ]
  },
  {
   "cell_type": "markdown",
   "id": "81766339",
   "metadata": {
    "papermill": {
     "duration": 0.006404,
     "end_time": "2023-01-03T03:29:45.734440",
     "exception": false,
     "start_time": "2023-01-03T03:29:45.728036",
     "status": "completed"
    },
    "tags": []
   },
   "source": [
    "# Question 3\n",
    "\n",
    "You're a home decorator, and you'd like to use Python to streamline some of your work.  Specifically, you're creating a tool that you intend to use to calculate the cost of painting a room.\n",
    "\n",
    "As a first step, define a function `get_cost()` that takes as input:\n",
    "- `sqft_walls` = total square feet of walls to be painted\n",
    "- `sqft_ceiling` = square feet of ceiling to be painted\n",
    "- `sqft_per_gallon` = number of square feet that you can cover with one gallon of paint\n",
    "- `cost_per_gallon` = cost (in dollars) of one gallon of paint\n",
    "\n",
    "It should return the cost (in dollars) of putting one coat of paint on all walls and the ceiling.  Assume you can buy the exact amount of paint that you need, so you can buy partial gallons (e.g., if you need 7.523 gallons, you can buy that exact amount, instead of needing to buy 8 gallons and waste some paint).  Do not round your answer."
   ]
  },
  {
   "cell_type": "code",
   "execution_count": 6,
   "id": "6e643828",
   "metadata": {
    "execution": {
     "iopub.execute_input": "2023-01-03T03:29:45.750223Z",
     "iopub.status.busy": "2023-01-03T03:29:45.749369Z",
     "iopub.status.idle": "2023-01-03T03:29:45.759697Z",
     "shell.execute_reply": "2023-01-03T03:29:45.758780Z"
    },
    "papermill": {
     "duration": 0.020916,
     "end_time": "2023-01-03T03:29:45.762028",
     "exception": false,
     "start_time": "2023-01-03T03:29:45.741112",
     "status": "completed"
    },
    "tags": []
   },
   "outputs": [
    {
     "data": {
      "application/javascript": [
       "parent.postMessage({\"jupyterEvent\": \"custom.exercise_interaction\", \"data\": {\"outcomeType\": 1, \"valueTowardsCompletion\": 0.2, \"interactionType\": 1, \"questionType\": 2, \"questionId\": \"3_GetCostPaint\", \"learnToolsVersion\": \"0.3.4\", \"failureMessage\": \"\", \"exceptionClass\": \"\", \"trace\": \"\"}}, \"*\")"
      ],
      "text/plain": [
       "<IPython.core.display.Javascript object>"
      ]
     },
     "metadata": {},
     "output_type": "display_data"
    },
    {
     "data": {
      "text/markdown": [
       "<span style=\"color:#33cc33\">Correct</span>"
      ],
      "text/plain": [
       "Correct"
      ]
     },
     "metadata": {},
     "output_type": "display_data"
    }
   ],
   "source": [
    "# TODO: Finish defining the function\n",
    "def get_cost(sqft_walls, sqft_ceiling, sqft_per_gallon, cost_per_gallon):\n",
    "    sqft_total = sqft_walls + sqft_ceiling\n",
    "    sqft_cost = sqft_total / sqft_per_gallon\n",
    "    cost = sqft_cost * cost_per_gallon\n",
    "    return cost\n",
    "\n",
    "# Check your answer\n",
    "q3.check()"
   ]
  },
  {
   "cell_type": "code",
   "execution_count": 7,
   "id": "300004db",
   "metadata": {
    "execution": {
     "iopub.execute_input": "2023-01-03T03:29:45.777738Z",
     "iopub.status.busy": "2023-01-03T03:29:45.777296Z",
     "iopub.status.idle": "2023-01-03T03:29:45.782500Z",
     "shell.execute_reply": "2023-01-03T03:29:45.780995Z"
    },
    "papermill": {
     "duration": 0.015943,
     "end_time": "2023-01-03T03:29:45.784985",
     "exception": false,
     "start_time": "2023-01-03T03:29:45.769042",
     "status": "completed"
    },
    "tags": []
   },
   "outputs": [],
   "source": [
    "# Uncomment to see a hint\n",
    "#q3.hint()\n",
    "\n",
    "# Uncomment to view the solution\n",
    "#q3.solution()"
   ]
  },
  {
   "cell_type": "markdown",
   "id": "df1647fd",
   "metadata": {
    "papermill": {
     "duration": 0.007444,
     "end_time": "2023-01-03T03:29:45.799740",
     "exception": false,
     "start_time": "2023-01-03T03:29:45.792296",
     "status": "completed"
    },
    "tags": []
   },
   "source": [
    "# Question 4\n",
    "\n",
    "Use the `get_cost()` function you defined in Question 3 to calculate the cost of applying one coat of paint to a room with:\n",
    "- 432 square feet of walls, and\n",
    "- 144 square feet of ceiling.\n",
    "\n",
    "Assume that one gallon of paint covers 400 square feet and costs $15.  As in Question 3, assume you can buy partial gallons of paint.  Do not round your answer."
   ]
  },
  {
   "cell_type": "code",
   "execution_count": 8,
   "id": "fadad610",
   "metadata": {
    "execution": {
     "iopub.execute_input": "2023-01-03T03:29:45.817653Z",
     "iopub.status.busy": "2023-01-03T03:29:45.816570Z",
     "iopub.status.idle": "2023-01-03T03:29:45.826716Z",
     "shell.execute_reply": "2023-01-03T03:29:45.825419Z"
    },
    "papermill": {
     "duration": 0.022095,
     "end_time": "2023-01-03T03:29:45.829434",
     "exception": false,
     "start_time": "2023-01-03T03:29:45.807339",
     "status": "completed"
    },
    "tags": []
   },
   "outputs": [
    {
     "data": {
      "application/javascript": [
       "parent.postMessage({\"jupyterEvent\": \"custom.exercise_interaction\", \"data\": {\"outcomeType\": 1, \"valueTowardsCompletion\": 0.2, \"interactionType\": 1, \"questionType\": 1, \"questionId\": \"4_GetCostPaintExample\", \"learnToolsVersion\": \"0.3.4\", \"failureMessage\": \"\", \"exceptionClass\": \"\", \"trace\": \"\"}}, \"*\")"
      ],
      "text/plain": [
       "<IPython.core.display.Javascript object>"
      ]
     },
     "metadata": {},
     "output_type": "display_data"
    },
    {
     "data": {
      "text/markdown": [
       "<span style=\"color:#33cc33\">Correct</span>"
      ],
      "text/plain": [
       "Correct"
      ]
     },
     "metadata": {},
     "output_type": "display_data"
    }
   ],
   "source": [
    "# TODO: Set the project_cost variable to the cost of the project\n",
    "project_cost = get_cost(432,144, 400,15)\n",
    "\n",
    "# Check your answer\n",
    "q4.check()"
   ]
  },
  {
   "cell_type": "code",
   "execution_count": 9,
   "id": "210ec490",
   "metadata": {
    "execution": {
     "iopub.execute_input": "2023-01-03T03:29:45.845534Z",
     "iopub.status.busy": "2023-01-03T03:29:45.845098Z",
     "iopub.status.idle": "2023-01-03T03:29:45.850371Z",
     "shell.execute_reply": "2023-01-03T03:29:45.849038Z"
    },
    "papermill": {
     "duration": 0.016944,
     "end_time": "2023-01-03T03:29:45.853568",
     "exception": false,
     "start_time": "2023-01-03T03:29:45.836624",
     "status": "completed"
    },
    "tags": []
   },
   "outputs": [],
   "source": [
    "# Uncomment to see a hint\n",
    "#q4.hint()\n",
    "\n",
    "# Uncomment to view the solution\n",
    "#q4.solution()"
   ]
  },
  {
   "cell_type": "markdown",
   "id": "35c5a3f1",
   "metadata": {
    "papermill": {
     "duration": 0.006765,
     "end_time": "2023-01-03T03:29:45.867692",
     "exception": false,
     "start_time": "2023-01-03T03:29:45.860927",
     "status": "completed"
    },
    "tags": []
   },
   "source": [
    "# 🌶️ Question 5\n",
    "\n",
    "Now say you can no longer buy fractions of a gallon.  (For instance, if you need 4.3 gallons to do a project, then you have to buy 5 gallons of paint.)\n",
    "\n",
    "With this new scenario, you will create a new function `get_actual_cost` that uses the same inputs and calculates the cost of your project.\n",
    "\n",
    "One function that you'll need to use to do this is `math.ceil()`.  We demonstrate usage of this function in the code cell below.  It takes as a number as input and rounds the number up to the nearest integer.  \n",
    "\n",
    "Run the next code cell to test this function for yourself.  Feel free to change the value of `test_value` and make sure `math.ceil()` returns the number you expect."
   ]
  },
  {
   "cell_type": "code",
   "execution_count": 10,
   "id": "12b85ded",
   "metadata": {
    "execution": {
     "iopub.execute_input": "2023-01-03T03:29:45.883559Z",
     "iopub.status.busy": "2023-01-03T03:29:45.883133Z",
     "iopub.status.idle": "2023-01-03T03:29:45.889506Z",
     "shell.execute_reply": "2023-01-03T03:29:45.888176Z"
    },
    "papermill": {
     "duration": 0.017192,
     "end_time": "2023-01-03T03:29:45.891932",
     "exception": false,
     "start_time": "2023-01-03T03:29:45.874740",
     "status": "completed"
    },
    "tags": []
   },
   "outputs": [
    {
     "name": "stdout",
     "output_type": "stream",
     "text": [
      "3\n"
     ]
    }
   ],
   "source": [
    "test_value = 2.17\n",
    "\n",
    "rounded_value = math.ceil(test_value)\n",
    "print(rounded_value)"
   ]
  },
  {
   "cell_type": "markdown",
   "id": "37a7bd71",
   "metadata": {
    "papermill": {
     "duration": 0.0069,
     "end_time": "2023-01-03T03:29:45.906186",
     "exception": false,
     "start_time": "2023-01-03T03:29:45.899286",
     "status": "completed"
    },
    "tags": []
   },
   "source": [
    "Use the next code cell to define the function `get_actual_cost()`.  You'll need to use the `math.ceil()` function to do this.\n",
    "\n",
    "When answering this question, note that it's completely valid to define a function that makes use of another function.  For instance, we can define a function `round_up_and_divide_by_three` that makes use of the `math.ceil` function:\n",
    "```\n",
    "def round_up_and_divide_by_three(num):\n",
    "    new_value = math.ceil(num)\n",
    "    final_value = new_value / 3\n",
    "    return final_value\n",
    "```"
   ]
  },
  {
   "cell_type": "code",
   "execution_count": 11,
   "id": "fe2b9a8d",
   "metadata": {
    "execution": {
     "iopub.execute_input": "2023-01-03T03:29:45.922845Z",
     "iopub.status.busy": "2023-01-03T03:29:45.921743Z",
     "iopub.status.idle": "2023-01-03T03:29:45.932048Z",
     "shell.execute_reply": "2023-01-03T03:29:45.930800Z"
    },
    "papermill": {
     "duration": 0.021152,
     "end_time": "2023-01-03T03:29:45.934378",
     "exception": false,
     "start_time": "2023-01-03T03:29:45.913226",
     "status": "completed"
    },
    "tags": []
   },
   "outputs": [
    {
     "data": {
      "application/javascript": [
       "parent.postMessage({\"jupyterEvent\": \"custom.exercise_interaction\", \"data\": {\"outcomeType\": 1, \"valueTowardsCompletion\": 0.2, \"interactionType\": 1, \"questionType\": 2, \"questionId\": \"5_NoMoreFractions\", \"learnToolsVersion\": \"0.3.4\", \"failureMessage\": \"\", \"exceptionClass\": \"\", \"trace\": \"\"}}, \"*\")"
      ],
      "text/plain": [
       "<IPython.core.display.Javascript object>"
      ]
     },
     "metadata": {},
     "output_type": "display_data"
    },
    {
     "data": {
      "text/markdown": [
       "<span style=\"color:#33cc33\">Correct</span>"
      ],
      "text/plain": [
       "Correct"
      ]
     },
     "metadata": {},
     "output_type": "display_data"
    }
   ],
   "source": [
    "def get_actual_cost(sqft_walls, sqft_ceiling, sqft_per_gallon, cost_per_gallon):\n",
    "    sqft_total = sqft_walls + sqft_ceiling\n",
    "    sqft_cost = sqft_total / sqft_per_gallon\n",
    "    gallon_needed = math.ceil(sqft_cost)\n",
    "    cost = gallon_needed * cost_per_gallon\n",
    "    return cost\n",
    "\n",
    "# Check your answer\n",
    "q5.check()"
   ]
  },
  {
   "cell_type": "code",
   "execution_count": 12,
   "id": "5d2b4388",
   "metadata": {
    "execution": {
     "iopub.execute_input": "2023-01-03T03:29:45.951705Z",
     "iopub.status.busy": "2023-01-03T03:29:45.950498Z",
     "iopub.status.idle": "2023-01-03T03:29:45.956173Z",
     "shell.execute_reply": "2023-01-03T03:29:45.955042Z"
    },
    "papermill": {
     "duration": 0.017303,
     "end_time": "2023-01-03T03:29:45.959168",
     "exception": false,
     "start_time": "2023-01-03T03:29:45.941865",
     "status": "completed"
    },
    "tags": []
   },
   "outputs": [],
   "source": [
    "# Uncomment to see a hint\n",
    "#q5.hint()\n",
    "\n",
    "# Uncomment to view the solution\n",
    "#q5.solution()"
   ]
  },
  {
   "cell_type": "markdown",
   "id": "0908a722",
   "metadata": {
    "papermill": {
     "duration": 0.007261,
     "end_time": "2023-01-03T03:29:45.973929",
     "exception": false,
     "start_time": "2023-01-03T03:29:45.966668",
     "status": "completed"
    },
    "tags": []
   },
   "source": [
    "Once your function is verified as correct, run the next code cell to calculate the updated cost of your project."
   ]
  },
  {
   "cell_type": "code",
   "execution_count": 13,
   "id": "7a0160a4",
   "metadata": {
    "execution": {
     "iopub.execute_input": "2023-01-03T03:29:45.991649Z",
     "iopub.status.busy": "2023-01-03T03:29:45.991239Z",
     "iopub.status.idle": "2023-01-03T03:29:45.999819Z",
     "shell.execute_reply": "2023-01-03T03:29:45.998437Z"
    },
    "papermill": {
     "duration": 0.020879,
     "end_time": "2023-01-03T03:29:46.002455",
     "exception": false,
     "start_time": "2023-01-03T03:29:45.981576",
     "status": "completed"
    },
    "tags": []
   },
   "outputs": [
    {
     "data": {
      "text/plain": [
       "30"
      ]
     },
     "execution_count": 13,
     "metadata": {},
     "output_type": "execute_result"
    }
   ],
   "source": [
    "get_actual_cost(432, 144, 400, 15) "
   ]
  },
  {
   "cell_type": "markdown",
   "id": "7961d5b4",
   "metadata": {
    "papermill": {
     "duration": 0.007795,
     "end_time": "2023-01-03T03:29:46.018459",
     "exception": false,
     "start_time": "2023-01-03T03:29:46.010664",
     "status": "completed"
    },
    "tags": []
   },
   "source": [
    "Say you're working with a slightly larger room.  Run the next code cell to calculate the cost of the project."
   ]
  },
  {
   "cell_type": "code",
   "execution_count": 14,
   "id": "1ee7bdd1",
   "metadata": {
    "execution": {
     "iopub.execute_input": "2023-01-03T03:29:46.035606Z",
     "iopub.status.busy": "2023-01-03T03:29:46.035191Z",
     "iopub.status.idle": "2023-01-03T03:29:46.042828Z",
     "shell.execute_reply": "2023-01-03T03:29:46.041613Z"
    },
    "papermill": {
     "duration": 0.019571,
     "end_time": "2023-01-03T03:29:46.045715",
     "exception": false,
     "start_time": "2023-01-03T03:29:46.026144",
     "status": "completed"
    },
    "tags": []
   },
   "outputs": [
    {
     "data": {
      "text/plain": [
       "45"
      ]
     },
     "execution_count": 14,
     "metadata": {},
     "output_type": "execute_result"
    }
   ],
   "source": [
    "get_actual_cost(594, 288, 400, 15) "
   ]
  },
  {
   "cell_type": "markdown",
   "id": "3513656a",
   "metadata": {
    "papermill": {
     "duration": 0.007402,
     "end_time": "2023-01-03T03:29:46.060857",
     "exception": false,
     "start_time": "2023-01-03T03:29:46.053455",
     "status": "completed"
    },
    "tags": []
   },
   "source": [
    "# Keep going\n",
    "\n",
    "Continue to learn about **[data types](https://www.kaggle.com/alexisbcook/data-types)**."
   ]
  },
  {
   "cell_type": "markdown",
   "id": "6aeb6e28",
   "metadata": {
    "papermill": {
     "duration": 0.007235,
     "end_time": "2023-01-03T03:29:46.075952",
     "exception": false,
     "start_time": "2023-01-03T03:29:46.068717",
     "status": "completed"
    },
    "tags": []
   },
   "source": [
    "---\n",
    "\n",
    "\n",
    "\n",
    "\n",
    "*Have questions or comments? Visit the [course discussion forum](https://www.kaggle.com/learn/intro-to-programming/discussion) to chat with other learners.*"
   ]
  }
 ],
 "metadata": {
  "kernelspec": {
   "display_name": "Python 3",
   "language": "python",
   "name": "python3"
  },
  "language_info": {
   "codemirror_mode": {
    "name": "ipython",
    "version": 3
   },
   "file_extension": ".py",
   "mimetype": "text/x-python",
   "name": "python",
   "nbconvert_exporter": "python",
   "pygments_lexer": "ipython3",
   "version": "3.7.12"
  },
  "papermill": {
   "default_parameters": {},
   "duration": 11.166538,
   "end_time": "2023-01-03T03:29:46.808129",
   "environment_variables": {},
   "exception": null,
   "input_path": "__notebook__.ipynb",
   "output_path": "__notebook__.ipynb",
   "parameters": {},
   "start_time": "2023-01-03T03:29:35.641591",
   "version": "2.3.4"
  }
 },
 "nbformat": 4,
 "nbformat_minor": 5
}
