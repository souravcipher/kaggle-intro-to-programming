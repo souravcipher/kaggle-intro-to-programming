{
 "cells": [
  {
   "cell_type": "markdown",
   "id": "17121276",
   "metadata": {
    "papermill": {
     "duration": 0.006949,
     "end_time": "2022-10-18T11:26:30.388686",
     "exception": false,
     "start_time": "2022-10-18T11:26:30.381737",
     "status": "completed"
    },
    "tags": []
   },
   "source": [
    "**This notebook is an exercise in the [Intro to Programming](https://www.kaggle.com/learn/intro-to-programming) course.  You can reference the tutorial at [this link](https://www.kaggle.com/alexisbcook/functions).**\n",
    "\n",
    "---\n"
   ]
  },
  {
   "cell_type": "markdown",
   "id": "db3ddd12",
   "metadata": {
    "papermill": {
     "duration": 0.005336,
     "end_time": "2022-10-18T11:26:30.399761",
     "exception": false,
     "start_time": "2022-10-18T11:26:30.394425",
     "status": "completed"
    },
    "tags": []
   },
   "source": [
    "In the tutorial, you learned about functions. In this exercise, you'll write some of your own!\n",
    "\n",
    "# Set up the notebook\n",
    "\n",
    "Run the next code cell without changes to set up the notebook."
   ]
  },
  {
   "cell_type": "code",
   "execution_count": 1,
   "id": "0ee75899",
   "metadata": {
    "execution": {
     "iopub.execute_input": "2022-10-18T11:26:30.413938Z",
     "iopub.status.busy": "2022-10-18T11:26:30.413001Z",
     "iopub.status.idle": "2022-10-18T11:26:30.483275Z",
     "shell.execute_reply": "2022-10-18T11:26:30.481305Z"
    },
    "papermill": {
     "duration": 0.080848,
     "end_time": "2022-10-18T11:26:30.486336",
     "exception": false,
     "start_time": "2022-10-18T11:26:30.405488",
     "status": "completed"
    },
    "tags": []
   },
   "outputs": [
    {
     "name": "stdout",
     "output_type": "stream",
     "text": [
      "Setup complete.\n"
     ]
    }
   ],
   "source": [
    "# Set up the exercise\n",
    "import math\n",
    "from learntools.core import binder\n",
    "binder.bind(globals())\n",
    "from learntools.intro_to_programming.ex2 import *\n",
    "print('Setup complete.')"
   ]
  },
  {
   "cell_type": "markdown",
   "id": "eae02496",
   "metadata": {
    "papermill": {
     "duration": 0.005492,
     "end_time": "2022-10-18T11:26:30.497758",
     "exception": false,
     "start_time": "2022-10-18T11:26:30.492266",
     "status": "completed"
    },
    "tags": []
   },
   "source": [
    "# Question 1\n",
    "\n",
    "In the [House Prices - Advanced Regression Techniques competition](https://www.kaggle.com/c/house-prices-advanced-regression-techniques/overview), you need to use information like the number of bedrooms and bathrooms to predict the price of a house.  Inspired by this competition, you'll write your own function to do this.\n",
    "\n",
    "In the next code cell, create a function `get_expected_cost()` that has two arguments:\n",
    "- `beds` - number of bedrooms \n",
    "- `baths` - number of bathrooms\n",
    "\n",
    "It should return the expected cost of a house with that number of bedrooms and bathrooms.  Assume that:\n",
    "- the expected cost for a house with 0 bedrooms and 0 bathrooms is `80000`.  \n",
    "- each bedroom adds `30000` to the expected cost\n",
    "- each bathroom adds `10000` to the expected cost.\n",
    "\n",
    "For instance, \n",
    "- a house with 1 bedroom and 1 bathroom has an expected cost of `120000`, and \n",
    "- a house with 2 bedrooms and 1 bathroom has an expected cost of `150000`."
   ]
  },
  {
   "cell_type": "code",
   "execution_count": 2,
   "id": "c00a61bc",
   "metadata": {
    "execution": {
     "iopub.execute_input": "2022-10-18T11:26:30.513129Z",
     "iopub.status.busy": "2022-10-18T11:26:30.512002Z",
     "iopub.status.idle": "2022-10-18T11:26:30.524744Z",
     "shell.execute_reply": "2022-10-18T11:26:30.523532Z"
    },
    "papermill": {
     "duration": 0.022824,
     "end_time": "2022-10-18T11:26:30.527017",
     "exception": false,
     "start_time": "2022-10-18T11:26:30.504193",
     "status": "completed"
    },
    "tags": []
   },
   "outputs": [
    {
     "data": {
      "application/javascript": [
       "parent.postMessage({\"jupyterEvent\": \"custom.exercise_interaction\", \"data\": {\"outcomeType\": 2, \"failureMessage\": \"Expected return value of `80000` given `beds=0`, `baths=0`, but got `<learntools.core.constants.PlaceholderValue object at 0x7f5d66cf8790>` instead.\", \"interactionType\": 1, \"questionType\": 2, \"questionId\": \"1_GetExpectedCost\", \"learnToolsVersion\": \"0.3.4\", \"valueTowardsCompletion\": 0.0, \"exceptionClass\": \"\", \"trace\": \"\"}}, \"*\")"
      ],
      "text/plain": [
       "<IPython.core.display.Javascript object>"
      ]
     },
     "metadata": {},
     "output_type": "display_data"
    },
    {
     "data": {
      "text/markdown": [
       "<span style=\"color:#cc3333\">Incorrect:</span> Expected return value of `80000` given `beds=0`, `baths=0`, but got `<learntools.core.constants.PlaceholderValue object at 0x7f5d66cf8790>` instead."
      ],
      "text/plain": [
       "Incorrect: Expected return value of `80000` given `beds=0`, `baths=0`, but got `<learntools.core.constants.PlaceholderValue object at 0x7f5d66cf8790>` instead."
      ]
     },
     "metadata": {},
     "output_type": "display_data"
    }
   ],
   "source": [
    "# TODO: Complete the function\n",
    "def get_expected_cost(beds, baths):\n",
    "    value = ____\n",
    "    return value\n",
    "\n",
    "# Check your answer \n",
    "q1.check()"
   ]
  },
  {
   "cell_type": "code",
   "execution_count": 3,
   "id": "bab43864",
   "metadata": {
    "execution": {
     "iopub.execute_input": "2022-10-18T11:26:30.541777Z",
     "iopub.status.busy": "2022-10-18T11:26:30.541010Z",
     "iopub.status.idle": "2022-10-18T11:26:30.546075Z",
     "shell.execute_reply": "2022-10-18T11:26:30.544784Z"
    },
    "papermill": {
     "duration": 0.015321,
     "end_time": "2022-10-18T11:26:30.548452",
     "exception": false,
     "start_time": "2022-10-18T11:26:30.533131",
     "status": "completed"
    },
    "tags": []
   },
   "outputs": [],
   "source": [
    "# Uncomment to see a hint\n",
    "#q1.hint()\n",
    "\n",
    "# Uncomment to view the solution\n",
    "#q1.solution()"
   ]
  },
  {
   "cell_type": "markdown",
   "id": "cbed0a62",
   "metadata": {
    "papermill": {
     "duration": 0.005777,
     "end_time": "2022-10-18T11:26:30.560446",
     "exception": false,
     "start_time": "2022-10-18T11:26:30.554669",
     "status": "completed"
    },
    "tags": []
   },
   "source": [
    "# Question 2\n",
    "\n",
    "You are thinking about buying a home and want to get an idea of how much you will spend, based on the number of bedrooms and bathrooms.  You are trying to decide between four different options:\n",
    "- Option 1: house with two bedrooms and three bathrooms\n",
    "- Option 2: house with three bedrooms and two bathrooms\n",
    "- Option 3: house with three bedrooms and three bathrooms\n",
    "- Option 4: house with three bedrooms and four bathrooms\n",
    "\n",
    "Use the `get_expected_cost()` function you defined in question 1 to set `option_1`, `option_2`, `option_3`, and `option_4` to the expected cost of each option."
   ]
  },
  {
   "cell_type": "code",
   "execution_count": 4,
   "id": "4e5ef20c",
   "metadata": {
    "execution": {
     "iopub.execute_input": "2022-10-18T11:26:30.574641Z",
     "iopub.status.busy": "2022-10-18T11:26:30.574238Z",
     "iopub.status.idle": "2022-10-18T11:26:30.586426Z",
     "shell.execute_reply": "2022-10-18T11:26:30.584893Z"
    },
    "papermill": {
     "duration": 0.02247,
     "end_time": "2022-10-18T11:26:30.588938",
     "exception": false,
     "start_time": "2022-10-18T11:26:30.566468",
     "status": "completed"
    },
    "tags": []
   },
   "outputs": [
    {
     "name": "stdout",
     "output_type": "stream",
     "text": [
      "<learntools.core.constants.PlaceholderValue object at 0x7f5d66cf8790>\n",
      "<learntools.core.constants.PlaceholderValue object at 0x7f5d66cf8790>\n",
      "<learntools.core.constants.PlaceholderValue object at 0x7f5d66cf8790>\n",
      "<learntools.core.constants.PlaceholderValue object at 0x7f5d66cf8790>\n"
     ]
    },
    {
     "data": {
      "application/javascript": [
       "parent.postMessage({\"jupyterEvent\": \"custom.exercise_interaction\", \"data\": {\"outcomeType\": 4, \"interactionType\": 1, \"questionType\": 1, \"questionId\": \"2_RunGetExpectedCost\", \"learnToolsVersion\": \"0.3.4\", \"valueTowardsCompletion\": 0.0, \"failureMessage\": \"\", \"exceptionClass\": \"\", \"trace\": \"\"}}, \"*\")"
      ],
      "text/plain": [
       "<IPython.core.display.Javascript object>"
      ]
     },
     "metadata": {},
     "output_type": "display_data"
    },
    {
     "data": {
      "text/markdown": [
       "<span style=\"color:#ccaa33\">Check:</span> When you've updated the starter code, `check()` will tell you whether your code is correct. You need to update the code that creates variables `option_one`, `option_two`, `option_three`, `option_four`"
      ],
      "text/plain": [
       "Check: When you've updated the starter code, `check()` will tell you whether your code is correct. You need to update the code that creates variables `option_one`, `option_two`, `option_three`, `option_four`"
      ]
     },
     "metadata": {},
     "output_type": "display_data"
    }
   ],
   "source": [
    "# TODO: Use the get_expected_cost function to fill in each value\n",
    "option_one = ____\n",
    "option_two = ____\n",
    "option_three = ____\n",
    "option_four = ____\n",
    "\n",
    "print(option_one)\n",
    "print(option_two)\n",
    "print(option_three)\n",
    "print(option_four)\n",
    "\n",
    "# Check your answer\n",
    "q2.check()"
   ]
  },
  {
   "cell_type": "code",
   "execution_count": 5,
   "id": "75e58a6f",
   "metadata": {
    "execution": {
     "iopub.execute_input": "2022-10-18T11:26:30.604327Z",
     "iopub.status.busy": "2022-10-18T11:26:30.603867Z",
     "iopub.status.idle": "2022-10-18T11:26:30.609318Z",
     "shell.execute_reply": "2022-10-18T11:26:30.607813Z"
    },
    "papermill": {
     "duration": 0.016532,
     "end_time": "2022-10-18T11:26:30.611910",
     "exception": false,
     "start_time": "2022-10-18T11:26:30.595378",
     "status": "completed"
    },
    "tags": []
   },
   "outputs": [],
   "source": [
    "# Uncomment to see a hint\n",
    "#q2.hint()\n",
    "\n",
    "# Uncomment to view the solution\n",
    "#q2.solution()"
   ]
  },
  {
   "cell_type": "markdown",
   "id": "8943b587",
   "metadata": {
    "papermill": {
     "duration": 0.006099,
     "end_time": "2022-10-18T11:26:30.624578",
     "exception": false,
     "start_time": "2022-10-18T11:26:30.618479",
     "status": "completed"
    },
    "tags": []
   },
   "source": [
    "# Question 3\n",
    "\n",
    "You're a home decorator, and you'd like to use Python to streamline some of your work.  Specifically, you're creating a tool that you intend to use to calculate the cost of painting a room.\n",
    "\n",
    "As a first step, define a function `get_cost()` that takes as input:\n",
    "- `sqft_walls` = total square feet of walls to be painted\n",
    "- `sqft_ceiling` = square feet of ceiling to be painted\n",
    "- `sqft_per_gallon` = number of square feet that you can cover with one gallon of paint\n",
    "- `cost_per_gallon` = cost (in dollars) of one gallon of paint\n",
    "\n",
    "It should return the cost (in dollars) of putting one coat of paint on all walls and the ceiling.  Assume you can buy the exact amount of paint that you need, so you can buy partial gallons (e.g., if you need 7.523 gallons, you can buy that exact amount, instead of needing to buy 8 gallons and waste some paint).  Do not round your answer."
   ]
  },
  {
   "cell_type": "code",
   "execution_count": 6,
   "id": "66f532b2",
   "metadata": {
    "execution": {
     "iopub.execute_input": "2022-10-18T11:26:30.640939Z",
     "iopub.status.busy": "2022-10-18T11:26:30.639882Z",
     "iopub.status.idle": "2022-10-18T11:26:30.649783Z",
     "shell.execute_reply": "2022-10-18T11:26:30.648854Z"
    },
    "papermill": {
     "duration": 0.020923,
     "end_time": "2022-10-18T11:26:30.651926",
     "exception": false,
     "start_time": "2022-10-18T11:26:30.631003",
     "status": "completed"
    },
    "tags": []
   },
   "outputs": [
    {
     "data": {
      "application/javascript": [
       "parent.postMessage({\"jupyterEvent\": \"custom.exercise_interaction\", \"data\": {\"outcomeType\": 2, \"failureMessage\": \"Expected return value of `21.599999999999998` given `sqft_walls=432`, `sqft_ceiling=144`, `sqft_per_gallon=400`, `cost_per_gallon=15`, but got `<learntools.core.constants.PlaceholderValue object at 0x7f5d66cf8790>` instead.\", \"interactionType\": 1, \"questionType\": 2, \"questionId\": \"3_GetCostPaint\", \"learnToolsVersion\": \"0.3.4\", \"valueTowardsCompletion\": 0.0, \"exceptionClass\": \"\", \"trace\": \"\"}}, \"*\")"
      ],
      "text/plain": [
       "<IPython.core.display.Javascript object>"
      ]
     },
     "metadata": {},
     "output_type": "display_data"
    },
    {
     "data": {
      "text/markdown": [
       "<span style=\"color:#cc3333\">Incorrect:</span> Expected return value of `21.599999999999998` given `sqft_walls=432`, `sqft_ceiling=144`, `sqft_per_gallon=400`, `cost_per_gallon=15`, but got `<learntools.core.constants.PlaceholderValue object at 0x7f5d66cf8790>` instead."
      ],
      "text/plain": [
       "Incorrect: Expected return value of `21.599999999999998` given `sqft_walls=432`, `sqft_ceiling=144`, `sqft_per_gallon=400`, `cost_per_gallon=15`, but got `<learntools.core.constants.PlaceholderValue object at 0x7f5d66cf8790>` instead."
      ]
     },
     "metadata": {},
     "output_type": "display_data"
    }
   ],
   "source": [
    "# TODO: Finish defining the function\n",
    "def get_cost(sqft_walls, sqft_ceiling, sqft_per_gallon, cost_per_gallon):\n",
    "    cost = ____\n",
    "    return cost\n",
    "\n",
    "# Check your answer\n",
    "q3.check()"
   ]
  },
  {
   "cell_type": "code",
   "execution_count": 7,
   "id": "3f0bf078",
   "metadata": {
    "execution": {
     "iopub.execute_input": "2022-10-18T11:26:30.666987Z",
     "iopub.status.busy": "2022-10-18T11:26:30.666566Z",
     "iopub.status.idle": "2022-10-18T11:26:30.671807Z",
     "shell.execute_reply": "2022-10-18T11:26:30.670670Z"
    },
    "papermill": {
     "duration": 0.015606,
     "end_time": "2022-10-18T11:26:30.674282",
     "exception": false,
     "start_time": "2022-10-18T11:26:30.658676",
     "status": "completed"
    },
    "tags": []
   },
   "outputs": [],
   "source": [
    "# Uncomment to see a hint\n",
    "#q3.hint()\n",
    "\n",
    "# Uncomment to view the solution\n",
    "#q3.solution()"
   ]
  },
  {
   "cell_type": "markdown",
   "id": "5a5fd0e5",
   "metadata": {
    "papermill": {
     "duration": 0.006473,
     "end_time": "2022-10-18T11:26:30.688074",
     "exception": false,
     "start_time": "2022-10-18T11:26:30.681601",
     "status": "completed"
    },
    "tags": []
   },
   "source": [
    "# Question 4\n",
    "\n",
    "Use the `get_cost()` function you defined in Question 3 to calculate the cost of applying one coat of paint to a room with:\n",
    "- 432 square feet of walls, and\n",
    "- 144 square feet of ceiling.\n",
    "\n",
    "Assume that one gallon of paint covers 400 square feet and costs $15.  As in Question 3, assume you can buy partial gallons of paint.  Do not round your answer."
   ]
  },
  {
   "cell_type": "code",
   "execution_count": 8,
   "id": "7b9c85f9",
   "metadata": {
    "execution": {
     "iopub.execute_input": "2022-10-18T11:26:30.702948Z",
     "iopub.status.busy": "2022-10-18T11:26:30.702546Z",
     "iopub.status.idle": "2022-10-18T11:26:30.711821Z",
     "shell.execute_reply": "2022-10-18T11:26:30.710592Z"
    },
    "papermill": {
     "duration": 0.019544,
     "end_time": "2022-10-18T11:26:30.714207",
     "exception": false,
     "start_time": "2022-10-18T11:26:30.694663",
     "status": "completed"
    },
    "tags": []
   },
   "outputs": [
    {
     "data": {
      "application/javascript": [
       "parent.postMessage({\"jupyterEvent\": \"custom.exercise_interaction\", \"data\": {\"outcomeType\": 4, \"interactionType\": 1, \"questionType\": 1, \"questionId\": \"4_GetCostPaintExample\", \"learnToolsVersion\": \"0.3.4\", \"valueTowardsCompletion\": 0.0, \"failureMessage\": \"\", \"exceptionClass\": \"\", \"trace\": \"\"}}, \"*\")"
      ],
      "text/plain": [
       "<IPython.core.display.Javascript object>"
      ]
     },
     "metadata": {},
     "output_type": "display_data"
    },
    {
     "data": {
      "text/markdown": [
       "<span style=\"color:#ccaa33\">Check:</span> When you've updated the starter code, `check()` will tell you whether your code is correct. You need to update the code that creates variable `project_cost`"
      ],
      "text/plain": [
       "Check: When you've updated the starter code, `check()` will tell you whether your code is correct. You need to update the code that creates variable `project_cost`"
      ]
     },
     "metadata": {},
     "output_type": "display_data"
    }
   ],
   "source": [
    "# TODO: Set the project_cost variable to the cost of the project\n",
    "project_cost = ____\n",
    "\n",
    "# Check your answer\n",
    "q4.check()"
   ]
  },
  {
   "cell_type": "code",
   "execution_count": 9,
   "id": "3c345925",
   "metadata": {
    "execution": {
     "iopub.execute_input": "2022-10-18T11:26:30.730369Z",
     "iopub.status.busy": "2022-10-18T11:26:30.729744Z",
     "iopub.status.idle": "2022-10-18T11:26:30.734916Z",
     "shell.execute_reply": "2022-10-18T11:26:30.733704Z"
    },
    "papermill": {
     "duration": 0.016407,
     "end_time": "2022-10-18T11:26:30.737655",
     "exception": false,
     "start_time": "2022-10-18T11:26:30.721248",
     "status": "completed"
    },
    "tags": []
   },
   "outputs": [],
   "source": [
    "# Uncomment to see a hint\n",
    "#q4.hint()\n",
    "\n",
    "# Uncomment to view the solution\n",
    "#q4.solution()"
   ]
  },
  {
   "cell_type": "markdown",
   "id": "51952aeb",
   "metadata": {
    "papermill": {
     "duration": 0.006926,
     "end_time": "2022-10-18T11:26:30.751888",
     "exception": false,
     "start_time": "2022-10-18T11:26:30.744962",
     "status": "completed"
    },
    "tags": []
   },
   "source": [
    "# 🌶️ Question 5\n",
    "\n",
    "Now say you can no longer buy fractions of a gallon.  (For instance, if you need 4.3 gallons to do a project, then you have to buy 5 gallons of paint.)\n",
    "\n",
    "With this new scenario, you will create a new function `get_actual_cost` that uses the same inputs and calculates the cost of your project.\n",
    "\n",
    "One function that you'll need to use to do this is `math.ceil()`.  We demonstrate usage of this function in the code cell below.  It takes as a number as input and rounds the number up to the nearest integer.  \n",
    "\n",
    "Run the next code cell to test this function for yourself.  Feel free to change the value of `test_value` and make sure `math.ceil()` returns the number you expect."
   ]
  },
  {
   "cell_type": "code",
   "execution_count": 10,
   "id": "39139035",
   "metadata": {
    "execution": {
     "iopub.execute_input": "2022-10-18T11:26:30.768480Z",
     "iopub.status.busy": "2022-10-18T11:26:30.767985Z",
     "iopub.status.idle": "2022-10-18T11:26:30.774618Z",
     "shell.execute_reply": "2022-10-18T11:26:30.773019Z"
    },
    "papermill": {
     "duration": 0.017666,
     "end_time": "2022-10-18T11:26:30.777234",
     "exception": false,
     "start_time": "2022-10-18T11:26:30.759568",
     "status": "completed"
    },
    "tags": []
   },
   "outputs": [
    {
     "name": "stdout",
     "output_type": "stream",
     "text": [
      "3\n"
     ]
    }
   ],
   "source": [
    "test_value = 2.17\n",
    "\n",
    "rounded_value = math.ceil(test_value)\n",
    "print(rounded_value)"
   ]
  },
  {
   "cell_type": "markdown",
   "id": "a813fbfa",
   "metadata": {
    "papermill": {
     "duration": 0.006688,
     "end_time": "2022-10-18T11:26:30.791140",
     "exception": false,
     "start_time": "2022-10-18T11:26:30.784452",
     "status": "completed"
    },
    "tags": []
   },
   "source": [
    "Use the next code cell to define the function `get_actual_cost()`.  You'll need to use the `math.ceil()` function to do this.\n",
    "\n",
    "When answering this question, note that it's completely valid to define a function that makes use of another function.  For instance, we can define a function `round_up_and_divide_by_three` that makes use of the `math.ceil` function:\n",
    "```\n",
    "def round_up_and_divide_by_three(num):\n",
    "    new_value = math.ceil(num)\n",
    "    final_value = new_value / 3\n",
    "    return final_value\n",
    "```"
   ]
  },
  {
   "cell_type": "code",
   "execution_count": 11,
   "id": "c14f1ea3",
   "metadata": {
    "execution": {
     "iopub.execute_input": "2022-10-18T11:26:30.807879Z",
     "iopub.status.busy": "2022-10-18T11:26:30.807498Z",
     "iopub.status.idle": "2022-10-18T11:26:30.818035Z",
     "shell.execute_reply": "2022-10-18T11:26:30.816378Z"
    },
    "papermill": {
     "duration": 0.022582,
     "end_time": "2022-10-18T11:26:30.820751",
     "exception": false,
     "start_time": "2022-10-18T11:26:30.798169",
     "status": "completed"
    },
    "tags": []
   },
   "outputs": [
    {
     "data": {
      "application/javascript": [
       "parent.postMessage({\"jupyterEvent\": \"custom.exercise_interaction\", \"data\": {\"outcomeType\": 2, \"failureMessage\": \"Expected return value of `30` given `sqft_walls=432`, `sqft_ceiling=144`, `sqft_per_gallon=400`, `cost_per_gallon=15`, but got `<learntools.core.constants.PlaceholderValue object at 0x7f5d66cf8790>` instead.\", \"interactionType\": 1, \"questionType\": 2, \"questionId\": \"5_NoMoreFractions\", \"learnToolsVersion\": \"0.3.4\", \"valueTowardsCompletion\": 0.0, \"exceptionClass\": \"\", \"trace\": \"\"}}, \"*\")"
      ],
      "text/plain": [
       "<IPython.core.display.Javascript object>"
      ]
     },
     "metadata": {},
     "output_type": "display_data"
    },
    {
     "data": {
      "text/markdown": [
       "<span style=\"color:#cc3333\">Incorrect:</span> Expected return value of `30` given `sqft_walls=432`, `sqft_ceiling=144`, `sqft_per_gallon=400`, `cost_per_gallon=15`, but got `<learntools.core.constants.PlaceholderValue object at 0x7f5d66cf8790>` instead."
      ],
      "text/plain": [
       "Incorrect: Expected return value of `30` given `sqft_walls=432`, `sqft_ceiling=144`, `sqft_per_gallon=400`, `cost_per_gallon=15`, but got `<learntools.core.constants.PlaceholderValue object at 0x7f5d66cf8790>` instead."
      ]
     },
     "metadata": {},
     "output_type": "display_data"
    }
   ],
   "source": [
    "def get_actual_cost(sqft_walls, sqft_ceiling, sqft_per_gallon, cost_per_gallon):\n",
    "    cost = ____\n",
    "    return cost\n",
    "\n",
    "# Check your answer\n",
    "q5.check()"
   ]
  },
  {
   "cell_type": "code",
   "execution_count": 12,
   "id": "74c62f5a",
   "metadata": {
    "execution": {
     "iopub.execute_input": "2022-10-18T11:26:30.837779Z",
     "iopub.status.busy": "2022-10-18T11:26:30.837371Z",
     "iopub.status.idle": "2022-10-18T11:26:30.842258Z",
     "shell.execute_reply": "2022-10-18T11:26:30.840708Z"
    },
    "papermill": {
     "duration": 0.017194,
     "end_time": "2022-10-18T11:26:30.845474",
     "exception": false,
     "start_time": "2022-10-18T11:26:30.828280",
     "status": "completed"
    },
    "tags": []
   },
   "outputs": [],
   "source": [
    "# Uncomment to see a hint\n",
    "#q5.hint()\n",
    "\n",
    "# Uncomment to view the solution\n",
    "#q5.solution()"
   ]
  },
  {
   "cell_type": "markdown",
   "id": "a385ddb9",
   "metadata": {
    "papermill": {
     "duration": 0.007743,
     "end_time": "2022-10-18T11:26:30.861173",
     "exception": false,
     "start_time": "2022-10-18T11:26:30.853430",
     "status": "completed"
    },
    "tags": []
   },
   "source": [
    "Once your function is verified as correct, run the next code cell to calculate the updated cost of your project."
   ]
  },
  {
   "cell_type": "code",
   "execution_count": 13,
   "id": "729a4c93",
   "metadata": {
    "execution": {
     "iopub.execute_input": "2022-10-18T11:26:30.878256Z",
     "iopub.status.busy": "2022-10-18T11:26:30.877824Z",
     "iopub.status.idle": "2022-10-18T11:26:30.885269Z",
     "shell.execute_reply": "2022-10-18T11:26:30.883985Z"
    },
    "papermill": {
     "duration": 0.019618,
     "end_time": "2022-10-18T11:26:30.888162",
     "exception": false,
     "start_time": "2022-10-18T11:26:30.868544",
     "status": "completed"
    },
    "tags": []
   },
   "outputs": [
    {
     "data": {
      "text/markdown": [],
      "text/plain": [
       "<learntools.core.constants.PlaceholderValue at 0x7f5d66cf8790>"
      ]
     },
     "execution_count": 13,
     "metadata": {},
     "output_type": "execute_result"
    }
   ],
   "source": [
    "get_actual_cost(432, 144, 400, 15) "
   ]
  },
  {
   "cell_type": "markdown",
   "id": "8d0a32b7",
   "metadata": {
    "papermill": {
     "duration": 0.00722,
     "end_time": "2022-10-18T11:26:30.902848",
     "exception": false,
     "start_time": "2022-10-18T11:26:30.895628",
     "status": "completed"
    },
    "tags": []
   },
   "source": [
    "Say you're working with a slightly larger room.  Run the next code cell to calculate the cost of the project."
   ]
  },
  {
   "cell_type": "code",
   "execution_count": 14,
   "id": "6dbcb799",
   "metadata": {
    "execution": {
     "iopub.execute_input": "2022-10-18T11:26:30.919462Z",
     "iopub.status.busy": "2022-10-18T11:26:30.918994Z",
     "iopub.status.idle": "2022-10-18T11:26:30.926630Z",
     "shell.execute_reply": "2022-10-18T11:26:30.925051Z"
    },
    "papermill": {
     "duration": 0.018964,
     "end_time": "2022-10-18T11:26:30.929313",
     "exception": false,
     "start_time": "2022-10-18T11:26:30.910349",
     "status": "completed"
    },
    "tags": []
   },
   "outputs": [
    {
     "data": {
      "text/markdown": [],
      "text/plain": [
       "<learntools.core.constants.PlaceholderValue at 0x7f5d66cf8790>"
      ]
     },
     "execution_count": 14,
     "metadata": {},
     "output_type": "execute_result"
    }
   ],
   "source": [
    "get_actual_cost(594, 288, 400, 15) "
   ]
  },
  {
   "cell_type": "markdown",
   "id": "b60f53f3",
   "metadata": {
    "papermill": {
     "duration": 0.007951,
     "end_time": "2022-10-18T11:26:30.944998",
     "exception": false,
     "start_time": "2022-10-18T11:26:30.937047",
     "status": "completed"
    },
    "tags": []
   },
   "source": [
    "# Keep going\n",
    "\n",
    "Continue to learn about **[data types](https://www.kaggle.com/alexisbcook/data-types)**."
   ]
  },
  {
   "cell_type": "markdown",
   "id": "c81321b8",
   "metadata": {
    "papermill": {
     "duration": 0.007428,
     "end_time": "2022-10-18T11:26:30.960318",
     "exception": false,
     "start_time": "2022-10-18T11:26:30.952890",
     "status": "completed"
    },
    "tags": []
   },
   "source": [
    "---\n",
    "\n",
    "\n",
    "\n",
    "\n",
    "*Have questions or comments? Visit the [course discussion forum](https://www.kaggle.com/learn/intro-to-programming/discussion) to chat with other learners.*"
   ]
  }
 ],
 "metadata": {
  "kernelspec": {
   "display_name": "Python 3",
   "language": "python",
   "name": "python3"
  },
  "language_info": {
   "codemirror_mode": {
    "name": "ipython",
    "version": 3
   },
   "file_extension": ".py",
   "mimetype": "text/x-python",
   "name": "python",
   "nbconvert_exporter": "python",
   "pygments_lexer": "ipython3",
   "version": "3.7.12"
  },
  "papermill": {
   "default_parameters": {},
   "duration": 11.80568,
   "end_time": "2022-10-18T11:26:31.790541",
   "environment_variables": {},
   "exception": null,
   "input_path": "__notebook__.ipynb",
   "output_path": "__notebook__.ipynb",
   "parameters": {},
   "start_time": "2022-10-18T11:26:19.984861",
   "version": "2.3.4"
  }
 },
 "nbformat": 4,
 "nbformat_minor": 5
}
